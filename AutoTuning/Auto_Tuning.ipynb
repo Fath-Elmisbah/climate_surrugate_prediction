{
 "cells": [
  {
   "cell_type": "code",
   "execution_count": 1,
   "id": "9845015b",
   "metadata": {},
   "outputs": [
    {
     "name": "stderr",
     "output_type": "stream",
     "text": [
      "/Users/felixmeng/miniforge3/lib/python3.9/site-packages/jax/_src/lib/__init__.py:33: UserWarning: JAX on Mac ARM machines is experimental and minimally tested. Please see https://github.com/google/jax/issues/5501 in the event of problems.\n",
      "  warnings.warn(\"JAX on Mac ARM machines is experimental and minimally tested. \"\n"
     ]
    }
   ],
   "source": [
    "import keras_tuner as kt\n",
    "from tensorflow import keras\n",
    "import numpy as np\n",
    "import xarray as xr\n",
    "import dask\n",
    "from keras.layers.normalization.layer_normalization import *\n",
    "from keras.layers.normalization.batch_normalization import *\n",
    "from keras.layers import BatchNormalization\n",
    "import tensorflow_probability as tfp\n",
    "import clif\n",
    "import clif.visualization as cviz\n",
    "import matplotlib.pyplot as plt\n",
    "import tensorflow.keras.backend as kb\n",
    "import tensorflow_addons as tfa"
   ]
  },
  {
   "cell_type": "code",
   "execution_count": 2,
   "id": "f0b9f9a3",
   "metadata": {},
   "outputs": [],
   "source": [
    "import numpyro"
   ]
  },
  {
   "cell_type": "code",
   "execution_count": 3,
   "id": "72124b7b",
   "metadata": {},
   "outputs": [],
   "source": [
    "import jax"
   ]
  },
  {
   "cell_type": "code",
   "execution_count": 4,
   "id": "41fa0a14",
   "metadata": {
    "scrolled": true
   },
   "outputs": [
    {
     "name": "stdout",
     "output_type": "stream",
     "text": [
      "/Users/felixmeng/CME291/icme-xplore-bayes-spring22/src/data\n"
     ]
    }
   ],
   "source": [
    "cd /Users/felixmeng/CME291/icme-xplore-bayes-spring22/src/data"
   ]
  },
  {
   "cell_type": "code",
   "execution_count": 5,
   "id": "bb597a97",
   "metadata": {},
   "outputs": [
    {
     "name": "stdout",
     "output_type": "stream",
     "text": [
      "lat_lon_10yr_24x48_DJF.nc  lat_lon_24x48_JJA_obs.nc\r\n",
      "lat_lon_10yr_24x48_JJA.nc  lat_lon_24x48_MAM_obs.nc\r\n",
      "lat_lon_10yr_24x48_MAM.nc  lat_lon_24x48_SON_obs.nc\r\n",
      "lat_lon_24x48_DJF_obs.nc   \u001b[34mtrials\u001b[m\u001b[m/\r\n"
     ]
    }
   ],
   "source": [
    "ls"
   ]
  },
  {
   "cell_type": "code",
   "execution_count": 6,
   "id": "71eb7a0b",
   "metadata": {},
   "outputs": [],
   "source": [
    "rm -rf trials/"
   ]
  },
  {
   "cell_type": "markdown",
   "id": "7cc0a5bd",
   "metadata": {},
   "source": [
    "### Loading the Data"
   ]
  },
  {
   "cell_type": "code",
   "execution_count": 7,
   "id": "662854b4",
   "metadata": {},
   "outputs": [],
   "source": [
    "# open the data set and load it via chunks (dask) for efficient handling (optional)\n",
    "season = 'DJF' # season\n",
    "dataset = xr.open_mfdataset(f\"../data/lat_lon_10yr_24x48_{season}.nc\", chunks={'n': 1})\n",
    "Y = dataset['SWCF']\n",
    "X = dataset['lhs']\n",
    "X_bnds = dataset['lhs_bnds']"
   ]
  },
  {
   "cell_type": "code",
   "execution_count": 8,
   "id": "f54fa1ee",
   "metadata": {},
   "outputs": [
    {
     "data": {
      "text/plain": [
       "(250, 24, 48)"
      ]
     },
     "execution_count": 8,
     "metadata": {},
     "output_type": "execute_result"
    }
   ],
   "source": [
    "Y.shape"
   ]
  },
  {
   "cell_type": "code",
   "execution_count": 9,
   "id": "2fba2dfb",
   "metadata": {},
   "outputs": [],
   "source": [
    "# Load the observation or reference data\n",
    "dataset_obs = xr.open_mfdataset(f\"../data/lat_lon_24x48_{season}_obs.nc\", chunks={'n': 1})\n",
    "Y_obs = dataset_obs['SWCF']\n",
    "Y_scalar=Y_obs.values.var()\n",
    "Y_shift=Y_obs.values.mean()\n",
    "Y_np = Y.values/np.sqrt(Y_scalar)\n",
    "Y_np = np.array([Yi.flatten() for Yi in Y_np])"
   ]
  },
  {
   "cell_type": "code",
   "execution_count": 10,
   "id": "534316cb",
   "metadata": {},
   "outputs": [
    {
     "data": {
      "text/plain": [
       "(-0.98272353, 1.0148838)"
      ]
     },
     "execution_count": 10,
     "metadata": {},
     "output_type": "execute_result"
    }
   ],
   "source": [
    "Y_np.mean(),Y_np.var()"
   ]
  },
  {
   "cell_type": "code",
   "execution_count": 11,
   "id": "eb8d6355",
   "metadata": {},
   "outputs": [
    {
     "data": {
      "text/plain": [
       "(250, 24, 48)"
      ]
     },
     "execution_count": 11,
     "metadata": {},
     "output_type": "execute_result"
    }
   ],
   "source": [
    "Y.shape"
   ]
  },
  {
   "cell_type": "code",
   "execution_count": 12,
   "id": "e10dd538",
   "metadata": {},
   "outputs": [
    {
     "name": "stdout",
     "output_type": "stream",
     "text": [
      "names of the feature coordinates:\n",
      " ['ice_sed_ai' 'clubb_c1' 'clubb_gamma_coef' 'zmconv_tau' 'zmconv_dmpdz']\n",
      "List of upper and lower bounds:\n",
      " [array([ 350., 1400.]), array([1., 5.]), array([0.1, 0.5]), array([ 1800., 14400.]), array([-0.002 , -0.0001])]\n",
      "Range of scaled features:(-1.000,0.998)\n"
     ]
    }
   ],
   "source": [
    "X_np = X.values\n",
    "feature_coords = dataset['x'].values\n",
    "print(\"names of the feature coordinates:\\n\",feature_coords)\n",
    "\n",
    "feature_bounds = dataset['lhs_bnds'].values\n",
    "print(\"List of upper and lower bounds:\\n\", list(feature_bounds))\n",
    "\n",
    "from tesuract.preprocessing import DomainScaler\n",
    "feature_transform = DomainScaler(\n",
    "                dim=X_np.shape[1],\n",
    "                input_range=list(feature_bounds),\n",
    "                output_range=(-1,1),\n",
    "                )\n",
    "X_s = feature_transform.fit_transform(X_np)\n",
    "print(\"Range of scaled features:({0:.3f},{1:.3f})\".format(X_s.min(), X_s.max()))"
   ]
  },
  {
   "cell_type": "code",
   "execution_count": 13,
   "id": "00f2d58b",
   "metadata": {},
   "outputs": [],
   "source": [
    "X = X_s.copy()\n",
    "Y = Y_np.copy()"
   ]
  },
  {
   "cell_type": "markdown",
   "id": "02834515",
   "metadata": {},
   "source": [
    "### Cross Validation"
   ]
  },
  {
   "cell_type": "code",
   "execution_count": 14,
   "id": "de0c3d6d",
   "metadata": {},
   "outputs": [],
   "source": [
    "index=np.random.choice(250,50)\n",
    "X_test=X[index]\n",
    "Y_test=Y[index]\n",
    "Index_x_bool=np.array([True]*250)\n",
    "Index_x_bool[index]=False\n",
    "X_train=X[Index_x_bool]\n",
    "Y_train=Y[Index_x_bool]"
   ]
  },
  {
   "cell_type": "markdown",
   "id": "d1e8e553",
   "metadata": {},
   "source": [
    "### Build Model"
   ]
  },
  {
   "cell_type": "code",
   "execution_count": 15,
   "id": "7f225c54",
   "metadata": {},
   "outputs": [],
   "source": [
    "def custom_loss(y_actual,y_pred):\n",
    "    custom_loss=kb.square(y_actual-y_pred)\n",
    "    return custom_loss"
   ]
  },
  {
   "cell_type": "code",
   "execution_count": 16,
   "id": "9056421d",
   "metadata": {},
   "outputs": [],
   "source": [
    "def build_model(hp):\n",
    "    model = keras.Sequential()\n",
    "    model.add(keras.layers.BatchNormalization(input_shape=(5,)))\n",
    "    model.add(tf.keras.layers.Flatten())\n",
    "    model.add(keras.layers.Dense(\n",
    "    units=hp.Int(\"units\", min_value=800, max_value=1000, step=50),\n",
    "    activation=hp.Choice(\"activation\", [\"relu\", \"tanh\",\"leaky_relu\"]))\n",
    "    )\n",
    "    if hp.Boolean(\"dropout\"):\n",
    "        model.add(keras.layers.Dropout(rate=0.25))\n",
    "        \n",
    "    model.add(keras.layers.Dense(\n",
    "    units=hp.Int(\"units2\", min_value=800, max_value=1000, step=100),\n",
    "    activation=hp.Choice(\"activation\", [\"relu\", \"tanh\",\"leaky_relu\"]))\n",
    "    )\n",
    "    model.add(keras.layers.Dense(\n",
    "    units=hp.Int(\"units3\", min_value=800, max_value=1000, step=100),\n",
    "    activation=hp.Choice(\"activation\", \"leaky_relu\"))\n",
    "    )\n",
    "    model.add(keras.layers.Dense(1152, activation='leaky_relu'))\n",
    "    hp_learning_rate=hp.Choice(\"learning_rate\",values=[1e-2,1e-3,1e-4])\n",
    "    model.compile(optimizer=tf.optimizers.Adam(learning_rate=hp_learning_rate),loss=custom_loss,\n",
    "             metrics=[ tf.keras.metrics.RootMeanSquaredError()])\n",
    "    return model"
   ]
  },
  {
   "cell_type": "markdown",
   "id": "6e8e884a",
   "metadata": {},
   "source": [
    "### Hyperparameter Tuning"
   ]
  },
  {
   "cell_type": "code",
   "execution_count": 17,
   "id": "f780be39",
   "metadata": {},
   "outputs": [
    {
     "name": "stdout",
     "output_type": "stream",
     "text": [
      "Metal device set to: Apple M1 Max\n"
     ]
    }
   ],
   "source": [
    "tuner = kt.Hyperband(\n",
    "    build_model,\n",
    "    objective='val_loss',\n",
    "    max_epochs=10,\n",
    "    factor=3,\n",
    "    directory='trials',)"
   ]
  },
  {
   "cell_type": "code",
   "execution_count": 18,
   "id": "c6d442fe",
   "metadata": {
    "scrolled": true
   },
   "outputs": [
    {
     "name": "stdout",
     "output_type": "stream",
     "text": [
      "Trial 30 Complete [00h 00m 02s]\n",
      "val_loss: 0.022585906088352203\n",
      "\n",
      "Best val_loss So Far: 0.018051663413643837\n",
      "Total elapsed time: 00h 00m 35s\n",
      "INFO:tensorflow:Oracle triggered exit\n"
     ]
    }
   ],
   "source": [
    "tuner.search(X_train, Y_train, epochs=50, validation_data=(X_test, Y_test))\n",
    "best_model = tuner.get_best_models()[0]"
   ]
  },
  {
   "cell_type": "code",
   "execution_count": 19,
   "id": "aaad77f2",
   "metadata": {},
   "outputs": [],
   "source": [
    "Y_Pred=best_model.predict(X_test)"
   ]
  },
  {
   "cell_type": "code",
   "execution_count": 20,
   "id": "57d88c3e",
   "metadata": {},
   "outputs": [
    {
     "name": "stdout",
     "output_type": "stream",
     "text": [
      "2/2 [==============================] - 0s 14ms/step - loss: 0.0181 - root_mean_squared_error: 0.1344\n"
     ]
    },
    {
     "data": {
      "text/plain": [
       "[0.018051663413643837, 0.13435648381710052]"
      ]
     },
     "execution_count": 20,
     "metadata": {},
     "output_type": "execute_result"
    }
   ],
   "source": [
    "best_model.evaluate(X_test,Y_test)"
   ]
  },
  {
   "cell_type": "code",
   "execution_count": 21,
   "id": "980fe74a",
   "metadata": {},
   "outputs": [
    {
     "name": "stdout",
     "output_type": "stream",
     "text": [
      "Model: \"sequential\"\n",
      "_________________________________________________________________\n",
      " Layer (type)                Output Shape              Param #   \n",
      "=================================================================\n",
      " batch_normalization (BatchN  (None, 5)                20        \n",
      " ormalization)                                                   \n",
      "                                                                 \n",
      " flatten (Flatten)           (None, 5)                 0         \n",
      "                                                                 \n",
      " dense (Dense)               (None, 800)               4800      \n",
      "                                                                 \n",
      " dense_1 (Dense)             (None, 800)               640800    \n",
      "                                                                 \n",
      " dense_2 (Dense)             (None, 900)               720900    \n",
      "                                                                 \n",
      " dense_3 (Dense)             (None, 1152)              1037952   \n",
      "                                                                 \n",
      "=================================================================\n",
      "Total params: 2,404,472\n",
      "Trainable params: 2,404,462\n",
      "Non-trainable params: 10\n",
      "_________________________________________________________________\n"
     ]
    }
   ],
   "source": [
    "best_model.summary()"
   ]
  },
  {
   "cell_type": "code",
   "execution_count": 22,
   "id": "079b5ee4",
   "metadata": {},
   "outputs": [],
   "source": [
    "from keras.utils.vis_utils import plot_model\n"
   ]
  },
  {
   "cell_type": "code",
   "execution_count": 25,
   "id": "a26534e5",
   "metadata": {},
   "outputs": [
    {
     "data": {
      "image/png": "[encoded data removed]",
      "text/plain": [
       "<IPython.core.display.Image object>"
      ]
     },
     "execution_count": 25,
     "metadata": {},
     "output_type": "execute_result"
    }
   ],
   "source": [
    "plot_model(best_model, to_file='large_model_plot.png', show_shapes=True, show_layer_names=False)"
   ]
  },
  {
   "cell_type": "markdown",
   "id": "12d89483",
   "metadata": {},
   "source": [
    "### Visualize the Hyperparameters"
   ]
  },
  {
   "cell_type": "code",
   "execution_count": 24,
   "id": "13921827",
   "metadata": {},
   "outputs": [],
   "source": [
    "%load_ext tensorboard"
   ]
  },
  {
   "cell_type": "code",
   "execution_count": null,
   "id": "1d6b95f6",
   "metadata": {},
   "outputs": [],
   "source": []
  }
 ],
 "metadata": {
  "kernelspec": {
   "display_name": "Python 3 (ipykernel)",
   "language": "python",
   "name": "python3"
  },
  "language_info": {
   "codemirror_mode": {
    "name": "ipython",
    "version": 3
   },
   "file_extension": ".py",
   "mimetype": "text/x-python",
   "name": "python",
   "nbconvert_exporter": "python",
   "pygments_lexer": "ipython3",
   "version": "3.9.10"
  }
 },
 "nbformat": 4,
 "nbformat_minor": 5
}
