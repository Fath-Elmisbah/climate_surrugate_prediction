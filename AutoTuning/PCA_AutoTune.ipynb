{
 "cells": [
  {
   "cell_type": "code",
   "execution_count": 21,
   "id": "b80fd389",
   "metadata": {},
   "outputs": [],
   "source": [
    "import keras_tuner as kt\n",
    "from tensorflow import keras\n",
    "import numpy as np\n",
    "import xarray as xr\n",
    "import dask\n",
    "from keras.layers.normalization.layer_normalization import *\n",
    "from keras.layers.normalization.batch_normalization import *\n",
    "from keras.layers import BatchNormalization\n",
    "import tensorflow_probability as tfp\n",
    "import clif\n",
    "import clif.visualization as cviz\n",
    "import matplotlib.pyplot as plt\n",
    "import tensorflow.keras.backend as kb\n",
    "import tensorflow_addons as tfa\n",
    "from keras.utils.vis_utils import plot_model"
   ]
  },
  {
   "cell_type": "code",
   "execution_count": 2,
   "id": "af6663d5",
   "metadata": {
    "scrolled": true
   },
   "outputs": [
    {
     "name": "stdout",
     "output_type": "stream",
     "text": [
      "/Users/felixmeng/CME291/icme-xplore-bayes-spring22/src/data\n"
     ]
    }
   ],
   "source": [
    "cd /Users/felixmeng/CME291/icme-xplore-bayes-spring22/src/data"
   ]
  },
  {
   "cell_type": "code",
   "execution_count": 3,
   "id": "59eac873",
   "metadata": {},
   "outputs": [],
   "source": [
    "rm -rf trials"
   ]
  },
  {
   "cell_type": "code",
   "execution_count": 4,
   "id": "b5d9d18f",
   "metadata": {},
   "outputs": [],
   "source": [
    "# open the data set and load it via chunks (dask) for efficient handling (optional)\n",
    "season = 'DJF' # season\n",
    "dataset = xr.open_mfdataset(f\"../data/lat_lon_10yr_24x48_{season}.nc\", chunks={'n': 1})\n",
    "Y = dataset['SWCF']\n",
    "X = dataset['lhs']\n",
    "X_bnds = dataset['lhs_bnds']"
   ]
  },
  {
   "cell_type": "code",
   "execution_count": 5,
   "id": "0dcdc328",
   "metadata": {},
   "outputs": [],
   "source": [
    "# Load the observation or reference data\n",
    "dataset_obs = xr.open_mfdataset(f\"../data/lat_lon_24x48_{season}_obs.nc\", chunks={'n': 1})\n",
    "Y_obs = dataset_obs['SWCF']\n",
    "Y_scalar=Y_obs.values.var()\n",
    "Y_shift=Y_obs.values.mean()\n",
    "Y_np = (Y.values-Y_obs.values)/np.sqrt(Y_scalar)\n",
    "Y_np = np.array([Yi.flatten() for Yi in Y_np])"
   ]
  },
  {
   "cell_type": "code",
   "execution_count": 6,
   "id": "e59be699",
   "metadata": {},
   "outputs": [
    {
     "name": "stdout",
     "output_type": "stream",
     "text": [
      "names of the feature coordinates:\n",
      " ['ice_sed_ai' 'clubb_c1' 'clubb_gamma_coef' 'zmconv_tau' 'zmconv_dmpdz']\n",
      "List of upper and lower bounds:\n",
      " [array([ 350., 1400.]), array([1., 5.]), array([0.1, 0.5]), array([ 1800., 14400.]), array([-0.002 , -0.0001])]\n",
      "Range of scaled features:(-1.000,0.998)\n"
     ]
    }
   ],
   "source": [
    "X_np = X.values\n",
    "feature_coords = dataset['x'].values\n",
    "print(\"names of the feature coordinates:\\n\",feature_coords)\n",
    "\n",
    "feature_bounds = dataset['lhs_bnds'].values\n",
    "print(\"List of upper and lower bounds:\\n\", list(feature_bounds))\n",
    "\n",
    "from tesuract.preprocessing import DomainScaler\n",
    "feature_transform = DomainScaler(\n",
    "                dim=X_np.shape[1],\n",
    "                input_range=list(feature_bounds),\n",
    "                output_range=(-1,1),\n",
    "                )\n",
    "X_s = feature_transform.fit_transform(X_np)\n",
    "print(\"Range of scaled features:({0:.3f},{1:.3f})\".format(X_s.min(), X_s.max()))"
   ]
  },
  {
   "cell_type": "code",
   "execution_count": 7,
   "id": "a56c4f62",
   "metadata": {},
   "outputs": [],
   "source": [
    "index=np.random.choice(250,50)\n",
    "X_test=X[index]\n",
    "Y_test=Y[index]\n",
    "Index_x_bool=np.array([True]*250)\n",
    "Index_x_bool[index]=False\n",
    "X_train=X[Index_x_bool]\n",
    "Y_train=Y[Index_x_bool]"
   ]
  },
  {
   "cell_type": "code",
   "execution_count": 8,
   "id": "23cd7d8a",
   "metadata": {},
   "outputs": [
    {
     "data": {
      "text/plain": [
       "Text(0.5, 1.0, 'Cumulative explained ratio')"
      ]
     },
     "execution_count": 8,
     "metadata": {},
     "output_type": "execute_result"
    },
    {
     "data": {
      "image/png": "[encoded data removed]",
      "text/plain": [
       "<Figure size 432x288 with 1 Axes>"
      ]
     },
     "metadata": {
      "needs_background": "light"
     },
     "output_type": "display_data"
    }
   ],
   "source": [
    "# Re-label the data to X and Y\n",
    "X = X_s.copy()\n",
    "Y = Y_np.copy()\n",
    "\n",
    "# Import PCA transform from sklearn\n",
    "from sklearn.decomposition import PCA\n",
    "pca = PCA(n_components=16,whiten=True)\n",
    "Yhat = pca.fit_transform(Y)\n",
    "\n",
    "# We can plot the explained variance which shows how much of the total variance the PCA components capture\n",
    "import matplotlib.pyplot as plt\n",
    "evr = pca.explained_variance_ratio_\n",
    "plt.plot(range(1,len(evr)+1),np.cumsum(evr))\n",
    "plt.grid(True)\n",
    "plt.title(\"Cumulative explained ratio\")"
   ]
  },
  {
   "cell_type": "code",
   "execution_count": 9,
   "id": "170f2f89",
   "metadata": {},
   "outputs": [],
   "source": [
    "Y_train2=Yhat[Index_x_bool]\n",
    "Y_test2=Yhat[index]"
   ]
  },
  {
   "cell_type": "code",
   "execution_count": 10,
   "id": "d2381fff",
   "metadata": {},
   "outputs": [],
   "source": [
    "def custom_loss(y_actual,y_pred):\n",
    "    custom_loss=kb.square(y_actual-y_pred)\n",
    "    return custom_loss"
   ]
  },
  {
   "cell_type": "code",
   "execution_count": 14,
   "id": "2f5d99dd",
   "metadata": {},
   "outputs": [],
   "source": [
    "def build_model_PCA(hp):\n",
    "    model = keras.Sequential()\n",
    "    model.add(keras.layers.BatchNormalization(input_shape=(5,)))\n",
    "    model.add(tf.keras.layers.Flatten())\n",
    "    model.add(keras.layers.Dense(\n",
    "    units=hp.Int(\"units\", min_value=20, max_value=100, step=20),\n",
    "    activation=hp.Choice(\"activation\", [\"relu\", \"tanh\",\"leaky_relu\"]))\n",
    "    )\n",
    "#     if hp.Boolean(\"dropout\"):\n",
    "#         model.add(keras.layers.Dropout(rate=0.25))\n",
    "        \n",
    "    model.add(keras.layers.Dense(\n",
    "    units=hp.Int(\"units2\", min_value=20, max_value=100, step=20),\n",
    "    activation=hp.Choice(\"activation\", [\"relu\", \"tanh\",\"leaky_relu\"]))\n",
    "    )\n",
    "    model.add(keras.layers.Dense(\n",
    "    units=hp.Int(\"units3\", min_value=20, max_value=100, step=20),\n",
    "    activation=hp.Choice(\"activation\", \"leaky_relu\"))\n",
    "    )\n",
    "    model.add(keras.layers.Dense(16, activation='leaky_relu'))\n",
    "    hp_learning_rate=hp.Choice(\"learning_rate\",values=[1e-2,1e-3,1e-4])\n",
    "    model.compile(optimizer=tf.optimizers.Adam(learning_rate=hp_learning_rate),loss=custom_loss,\n",
    "             metrics=[ tf.keras.metrics.RootMeanSquaredError()])\n",
    "    return model"
   ]
  },
  {
   "cell_type": "code",
   "execution_count": 15,
   "id": "fcbeecd4",
   "metadata": {},
   "outputs": [],
   "source": [
    "tuner = kt.Hyperband(\n",
    "    build_model_PCA,\n",
    "    objective='val_loss',\n",
    "    max_epochs=10,\n",
    "    factor=3,\n",
    "    overwrite=True,\n",
    "    directory='trials',)"
   ]
  },
  {
   "cell_type": "code",
   "execution_count": 16,
   "id": "93a1c0eb",
   "metadata": {},
   "outputs": [
    {
     "name": "stdout",
     "output_type": "stream",
     "text": [
      "Trial 30 Complete [00h 00m 02s]\n",
      "val_loss: 1.1802036762237549\n",
      "\n",
      "Best val_loss So Far: 0.9462693333625793\n",
      "Total elapsed time: 00h 00m 41s\n",
      "INFO:tensorflow:Oracle triggered exit\n"
     ]
    }
   ],
   "source": [
    "tuner.search(X_train, Y_train2, epochs=50, validation_data=(X_test, Y_test2))"
   ]
  },
  {
   "cell_type": "code",
   "execution_count": 17,
   "id": "a1b929e4",
   "metadata": {},
   "outputs": [
    {
     "name": "stdout",
     "output_type": "stream",
     "text": [
      "Model: \"sequential\"\n",
      "_________________________________________________________________\n",
      " Layer (type)                Output Shape              Param #   \n",
      "=================================================================\n",
      " batch_normalization (BatchN  (None, 5)                20        \n",
      " ormalization)                                                   \n",
      "                                                                 \n",
      " flatten (Flatten)           (None, 5)                 0         \n",
      "                                                                 \n",
      " dense (Dense)               (None, 80)                480       \n",
      "                                                                 \n",
      " dense_1 (Dense)             (None, 60)                4860      \n",
      "                                                                 \n",
      " dense_2 (Dense)             (None, 60)                3660      \n",
      "                                                                 \n",
      " dense_3 (Dense)             (None, 16)                976       \n",
      "                                                                 \n",
      "=================================================================\n",
      "Total params: 9,996\n",
      "Trainable params: 9,986\n",
      "Non-trainable params: 10\n",
      "_________________________________________________________________\n"
     ]
    }
   ],
   "source": [
    "best_model = tuner.get_best_models()[0]\n",
    "best_model.summary()"
   ]
  },
  {
   "cell_type": "code",
   "execution_count": 18,
   "id": "7d05764c",
   "metadata": {},
   "outputs": [
    {
     "name": "stdout",
     "output_type": "stream",
     "text": [
      "WARNING:tensorflow:Keras is training/fitting/evaluating on array-like data. Keras may not be optimized for this format, so if your input data format is supported by TensorFlow I/O (https://github.com/tensorflow/io) we recommend using that to load a Dataset instead.\n"
     ]
    }
   ],
   "source": [
    "Y_Pred=best_model.predict(X_test)"
   ]
  },
  {
   "cell_type": "code",
   "execution_count": 19,
   "id": "ca5603a8",
   "metadata": {},
   "outputs": [],
   "source": [
    "Y_orig_test=pca.inverse_transform(Y_Pred)\n",
    "Y_test2=Y[index]\n"
   ]
  },
  {
   "cell_type": "code",
   "execution_count": 23,
   "id": "a7152b58",
   "metadata": {},
   "outputs": [],
   "source": [
    "mse=np.mean(np.square(Y_orig_test-Y_test2))"
   ]
  },
  {
   "cell_type": "code",
   "execution_count": 24,
   "id": "1896578e",
   "metadata": {},
   "outputs": [],
   "source": [
    "rmse=np.sqrt(mse)"
   ]
  },
  {
   "cell_type": "code",
   "execution_count": 25,
   "id": "f85a1602",
   "metadata": {},
   "outputs": [
    {
     "name": "stdout",
     "output_type": "stream",
     "text": [
      "mse is: 0.017274601 rmse: 0.13143288\n"
     ]
    }
   ],
   "source": [
    "print(\"mse is:\",mse,\"rmse:\",rmse)"
   ]
  },
  {
   "cell_type": "code",
   "execution_count": 27,
   "id": "d197377e",
   "metadata": {},
   "outputs": [
    {
     "data": {
      "image/png": "[encoded data removed]",
      "text/plain": [
       "<IPython.core.display.Image object>"
      ]
     },
     "execution_count": 27,
     "metadata": {},
     "output_type": "execute_result"
    }
   ],
   "source": [
    "plot_model(best_model, to_file='large_model_plot.png', show_shapes=True, show_layer_names=False)"
   ]
  },
  {
   "cell_type": "code",
   "execution_count": null,
   "id": "763d51a5",
   "metadata": {},
   "outputs": [],
   "source": []
  }
 ],
 "metadata": {
  "kernelspec": {
   "display_name": "Python 3 (ipykernel)",
   "language": "python",
   "name": "python3"
  },
  "language_info": {
   "codemirror_mode": {
    "name": "ipython",
    "version": 3
   },
   "file_extension": ".py",
   "mimetype": "text/x-python",
   "name": "python",
   "nbconvert_exporter": "python",
   "pygments_lexer": "ipython3",
   "version": "3.9.10"
  }
 },
 "nbformat": 4,
 "nbformat_minor": 5
}
