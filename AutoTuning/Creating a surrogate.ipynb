{
 "cells": [
  {
   "cell_type": "markdown",
   "id": "66095c59",
   "metadata": {},
   "source": [
    "# Quick recap\n",
    "\n",
    "To get started, we need to make sure we have the right packages. The packages for surrogate construction and plotting is `tesuract` and `clif`. `tesuract` can be downloaded using `pip install tesuract` or getting the source from [here](https://github.com/kennychowdhary/tesuract). `clif` is a private repo and you should have got an invitation to be a collaborator. The link is [here](https://github.com/kennychowdhary/clif). We will use `clif` for plotting and some preprocessing transforms, but it is not required. \n",
    "\n",
    "These packages, and other will require the following third party libraries:\n",
    "\n",
    "```\n",
    "xarray\n",
    "dask\n",
    "numpy \n",
    "matplotlib\n",
    "netcdf4\n",
    "scikit-learn\n",
    "cartopy (optional)\n",
    "```\n",
    "\n",
    "Once you have all those packages installed, we can begin loading and plotting the data. "
   ]
  },
  {
   "cell_type": "markdown",
   "id": "7c1c3893",
   "metadata": {},
   "source": [
    "## Understanding the data\n",
    "\n",
    "The data is saved as a netcdf file, which is similar to a pandas style data frame. We will load is as an xarray data set which will allow us to load a whole bunch of meta data along with the numpy arrays. For example, the data sets we will be looking at are latitude-longitude fields. If we were to import the data as a pure numpy array, we would lose the latitude or longitude indices associated with each row and column of the data set. xarray allows us to store that information. It is a mix between pandas and numpy, and it becoming increasingly utilized in the climate world. \n",
    "\n",
    "The data sets are broken up by seasons (DJF - December, January, February). So for DJF/ winter, we have two separate `*.nc` files or netcdf files. `lat_lon_10yr_24x48_DJF.nc` contains simulation data from 250 independent runs of E3SM. It contains different climatologies or outputs of the model such as shortwave and longwave cloud forcing, and total precipitation. Let's see how to load this data and what it looks like. "
   ]
  },
  {
   "cell_type": "code",
   "execution_count": 1,
   "id": "ec230941",
   "metadata": {},
   "outputs": [],
   "source": [
    "import numpy as np\n",
    "import xarray as xr\n",
    "import dask"
   ]
  },
  {
   "cell_type": "code",
   "execution_count": 2,
   "id": "559867a0",
   "metadata": {},
   "outputs": [
    {
     "name": "stdout",
     "output_type": "stream",
     "text": [
      "/Users/felixmeng/CME291/icme-xplore-bayes-spring22/src/data\n"
     ]
    }
   ],
   "source": [
    "cd /Users/felixmeng/CME291/icme-xplore-bayes-spring22/src/data"
   ]
  },
  {
   "cell_type": "code",
   "execution_count": 3,
   "id": "4a4200be",
   "metadata": {},
   "outputs": [],
   "source": [
    "# open the data set and load it via chunks (dask) for efficient handling (optional)\n",
    "season = 'DJF' # season\n",
    "dataset = xr.open_mfdataset(f\"../data/lat_lon_10yr_24x48_{season}.nc\", chunks={'n': 1})"
   ]
  },
  {
   "cell_type": "markdown",
   "id": "6ab05189",
   "metadata": {},
   "source": [
    "For our purposes, we will only need a few of these variables. The variables of interest will be \n",
    "\n",
    "```\n",
    "SWCF (shortwave cloud forcing W/m^2)\n",
    "LWCF (longwave cloud forcing W/m^2)\n",
    "PRECT (total precipitation m/day)\n",
    "area (latitude/ longitude area weights of grids, not equally spaced)\n",
    "lhs (Latin hypercuve sampling tuning parameters/ feature space samples X)\n",
    "lhs_bnds (bounds on feature space parameters - for re-scaling)\n",
    "```\n",
    "\n",
    "Let's extract the SWCF variable and the LHS points "
   ]
  },
  {
   "cell_type": "code",
   "execution_count": 4,
   "id": "728b9c39",
   "metadata": {},
   "outputs": [],
   "source": [
    "# Extract the training data for SWCF\n",
    "Y = dataset['SWCF']\n",
    "X = dataset['lhs']\n",
    "X_bnds = dataset['lhs_bnds']"
   ]
  },
  {
   "cell_type": "markdown",
   "id": "135c1c50",
   "metadata": {},
   "source": [
    "Now that we extracted the training data, let's explore its shape. The first dimension is always the sampling dimension, as standard in ML. Thus, each row of the dataset corresponds to a different sample"
   ]
  },
  {
   "cell_type": "markdown",
   "id": "126a8f42",
   "metadata": {},
   "source": [
    "$X$ is of size $250 \\times 5$ corresponding to $250$ training samples and $5$-dimensional feature space. Each row represents a different set of parameters and the corresponding E3SM model simulation output is given in $Y$. "
   ]
  },
  {
   "cell_type": "markdown",
   "id": "5687c2db",
   "metadata": {},
   "source": [
    "$Y$ is of size $250 \\times 24 \\times 48$, thus each sample of $Y$ is a $24\\times48$ *image* or spatially varying latitude-longitude field. As you can see above, $Y$ is a three dimensional tensor (it's actually 4 but we ignore the time), with latitude and longitude coordinates. \n",
    "\n",
    "$(X,Y)$ represent input/ output pairs of the E3SM climate model. We will use this data to creat a regression model that maps/ interpolates $X$ to $Y$. We do this so we can calibrate the climate model, i.e., we want to find the optimal input value such that $Y$ matches some observed climate data. That is, \n",
    "\n",
    "$$x^* = \\arg \\min_{x} \\|Y_{\\mathrm{E^3SM}}(x) - Y_{\\mathrm{obs}} \\| $$\n",
    "\n",
    "Since E3SM is too computationally expensive, instead, we solve \n",
    "\n",
    "$$x^* = \\arg \\min_{x} \\|Y_{\\mathrm{surrogate}}(x) - Y_{\\mathrm{obs}} \\| $$, \n",
    "\n",
    "where we replace the full model with a machine learning surrogate. This optimization can be solved quickly given that the surrogate is differentiable and easy to evaluate. \n",
    "\n",
    "This observed data can be loaded from the corresponding netcdf file from the same data directory.   "
   ]
  },
  {
   "cell_type": "markdown",
   "id": "6602ac2c",
   "metadata": {},
   "source": [
    "## Processing Data"
   ]
  },
  {
   "cell_type": "code",
   "execution_count": 5,
   "id": "fcaa2c34",
   "metadata": {},
   "outputs": [],
   "source": [
    "# Load the observation or reference data\n",
    "dataset_obs = xr.open_mfdataset(f\"../data/lat_lon_24x48_{season}_obs.nc\", chunks={'n': 1})\n",
    "Y_obs = dataset_obs['SWCF']"
   ]
  },
  {
   "cell_type": "code",
   "execution_count": 6,
   "id": "4fe61a00",
   "metadata": {},
   "outputs": [],
   "source": [
    "Y_scalar=Y_obs.values.var()\n",
    "Y_shift=Y_obs.values.mean()"
   ]
  },
  {
   "cell_type": "code",
   "execution_count": null,
   "id": "58a43985",
   "metadata": {},
   "outputs": [],
   "source": []
  },
  {
   "cell_type": "markdown",
   "id": "80c31e80",
   "metadata": {},
   "source": [
    "## Creating a dummy predictor\n",
    "\n",
    "Let's create our first surrogate which maps $X \\mapsto Y$. The standard baseline or starting point would be to use a mean approximation as a model. Of course, this mean predictor has no dependence on $X$ but if it performs better than a more complex model, then it is a problem. So we always compute the dummy predictor as a default. \n",
    "\n",
    "We can use sklearn's dummy regressor to create such a model quite easily. For simplicity, it will help to flatten each of the $24\\times 48$ output data sets. "
   ]
  },
  {
   "cell_type": "code",
   "execution_count": 7,
   "id": "412cb154",
   "metadata": {},
   "outputs": [
    {
     "data": {
      "text/plain": [
       "(250, 1152)"
      ]
     },
     "execution_count": 7,
     "metadata": {},
     "output_type": "execute_result"
    }
   ],
   "source": [
    "# Extract numpy array from the xarray.DataArray\n",
    "Y_np = (Y.values-Y_obs.values)/np.sqrt(Y_scalar)\n",
    "Y_np = np.array([Yi.flatten() for Yi in Y_np])\n",
    "Y_np.shape"
   ]
  },
  {
   "cell_type": "code",
   "execution_count": 8,
   "id": "0e8c0a79",
   "metadata": {},
   "outputs": [
    {
     "data": {
      "text/plain": [
       "(0.12064288, 0.089600556)"
      ]
     },
     "execution_count": 8,
     "metadata": {},
     "output_type": "execute_result"
    }
   ],
   "source": [
    "Y_np.mean(),Y_np.var()"
   ]
  },
  {
   "cell_type": "code",
   "execution_count": 9,
   "id": "8c6bf966",
   "metadata": {},
   "outputs": [
    {
     "data": {
      "text/plain": [
       "(250, 5)"
      ]
     },
     "execution_count": 9,
     "metadata": {},
     "output_type": "execute_result"
    }
   ],
   "source": [
    "# Also, extract the feature matrix as a numpy array\n",
    "X_np = X.values\n",
    "X_np.shape"
   ]
  },
  {
   "cell_type": "markdown",
   "id": "a194a391",
   "metadata": {},
   "source": [
    "If you take a look at $X$, it contains vastly different scales. For better performance, we will do some feature scaling and transform the input data to a standard input. We will use tesuract to perform this transformation. To do this we need to extract the bounds from the dataset and then perform a feature transform. "
   ]
  },
  {
   "cell_type": "code",
   "execution_count": 10,
   "id": "abcc3707",
   "metadata": {},
   "outputs": [
    {
     "name": "stdout",
     "output_type": "stream",
     "text": [
      "names of the feature coordinates:\n",
      " ['ice_sed_ai' 'clubb_c1' 'clubb_gamma_coef' 'zmconv_tau' 'zmconv_dmpdz']\n",
      "List of upper and lower bounds:\n",
      " [array([ 350., 1400.]), array([1., 5.]), array([0.1, 0.5]), array([ 1800., 14400.]), array([-0.002 , -0.0001])]\n",
      "Range of scaled features:(-1.000,0.998)\n"
     ]
    }
   ],
   "source": [
    "feature_coords = dataset['x'].values\n",
    "print(\"names of the feature coordinates:\\n\",feature_coords)\n",
    "\n",
    "feature_bounds = dataset['lhs_bnds'].values\n",
    "print(\"List of upper and lower bounds:\\n\", list(feature_bounds))\n",
    "\n",
    "from tesuract.preprocessing import DomainScaler\n",
    "feature_transform = DomainScaler(\n",
    "                dim=X_np.shape[1],\n",
    "                input_range=list(feature_bounds),\n",
    "                output_range=(-1,1),\n",
    "                )\n",
    "X_s = feature_transform.fit_transform(X_np)\n",
    "print(\"Range of scaled features:({0:.3f},{1:.3f})\".format(X_s.min(), X_s.max()))"
   ]
  },
  {
   "cell_type": "markdown",
   "id": "0ee70533",
   "metadata": {},
   "source": [
    "## Establishing a baseline\n",
    "\n",
    "Try creating a surrogate four different ways and computing the cross validation score (5-fold cross validation score) for each of the regressors. Note that the regressors below have the ability to create a multi-target model (we have 1,152 targets which correspond to 24x48 latitude and longitude points). Not all regressors can perform a multi-target regression. \n",
    "\n",
    "Once a baseline is established, we can start experimenting with different metrics, hyper-parameter optimization, and we can try our first fully connect neural network. We can initially try sklearn's basic MLP model, which can handle multi-target data, but then we will move to keras since it can handle convolutional nets and most custom solutions. "
   ]
  },
  {
   "cell_type": "code",
   "execution_count": 11,
   "id": "e1cb70ca",
   "metadata": {},
   "outputs": [],
   "source": [
    "import matplotlib.pyplot as plt"
   ]
  },
  {
   "cell_type": "code",
   "execution_count": 12,
   "id": "f8d67653",
   "metadata": {},
   "outputs": [
    {
     "name": "stdout",
     "output_type": "stream",
     "text": [
      "-0.024716158956289293\n",
      "-0.005413386877626181\n",
      "-0.006029308834992172\n"
     ]
    }
   ],
   "source": [
    "X = X_s.copy()\n",
    "Y = Y_np.copy()\n",
    "\n",
    "# calculate the cross validation score as well\n",
    "from sklearn.model_selection import cross_val_score\n",
    "# Now we can create a dummy predictor mapping X -> Y\n",
    "from sklearn.dummy import DummyRegressor\n",
    "dummyreg = DummyRegressor(strategy='mean')\n",
    "cv_scores = cross_val_score(dummyreg,X,Y,scoring='neg_mean_squared_error')\n",
    "print(cv_scores.mean())\n",
    "\n",
    "# try k nearest neighbors\n",
    "from sklearn.neighbors import KNeighborsRegressor\n",
    "Knn= KNeighborsRegressor(n_neighbors=6)\n",
    "Knn.fit(X,Y)\n",
    "print(cross_val_score(Knn,X,Y,scoring='neg_mean_squared_error').mean())\n",
    "# linear regression\n",
    "from sklearn.linear_model import LinearRegression\n",
    "Linear= LinearRegression()\n",
    "Linear.fit(X,Y) \n",
    "print(cross_val_score(Linear,X,Y,scoring='neg_mean_squared_error').mean())\n",
    "# from sklearn import svm\n",
    "# SVM=svm.SVC(kernel='linear', C=1).fit(X, Y)"
   ]
  },
  {
   "cell_type": "markdown",
   "id": "b8a3eaf7",
   "metadata": {},
   "source": [
    "### Creating a custom estimator"
   ]
  },
  {
   "cell_type": "markdown",
   "id": "73a82e98",
   "metadata": {},
   "source": [
    "We can create a custom estimator, e.g., from keras, and have it be compatible with sklearn's API simply by wrapping it using the BaseEstimator class. This is optional, but I am putting some pseudo code to explain how this can work. "
   ]
  },
  {
   "cell_type": "code",
   "execution_count": 13,
   "id": "9f870c2f",
   "metadata": {},
   "outputs": [],
   "source": [
    "import sklearn\n",
    "import tensorflow as tf"
   ]
  },
  {
   "cell_type": "code",
   "execution_count": 14,
   "id": "42f2f193",
   "metadata": {},
   "outputs": [],
   "source": [
    "BaseEstimator=sklearn.base.BaseEstimator"
   ]
  },
  {
   "cell_type": "code",
   "execution_count": 15,
   "id": "0a65a204",
   "metadata": {},
   "outputs": [
    {
     "data": {
      "text/plain": [
       "(250, 5)"
      ]
     },
     "execution_count": 15,
     "metadata": {},
     "output_type": "execute_result"
    }
   ],
   "source": [
    "X.shape"
   ]
  },
  {
   "cell_type": "code",
   "execution_count": 16,
   "id": "08bcbe01",
   "metadata": {},
   "outputs": [
    {
     "data": {
      "text/plain": [
       "(250, 1152)"
      ]
     },
     "execution_count": 16,
     "metadata": {},
     "output_type": "execute_result"
    }
   ],
   "source": [
    "Y.shape"
   ]
  },
  {
   "cell_type": "markdown",
   "id": "a1888f79",
   "metadata": {},
   "source": [
    "### Cross Validation"
   ]
  },
  {
   "cell_type": "code",
   "execution_count": 17,
   "id": "a1d8ced6",
   "metadata": {},
   "outputs": [],
   "source": [
    "index=np.random.choice(250,50)\n",
    "X_test=X[index]\n",
    "Y_test=Y[index]\n",
    "Index_x_bool=np.array([True]*250)\n",
    "Index_x_bool[index]=False\n",
    "X_train=X[Index_x_bool]\n",
    "Y_train=Y[Index_x_bool]"
   ]
  },
  {
   "cell_type": "markdown",
   "id": "a10dac9c",
   "metadata": {},
   "source": [
    "### Base Estimator"
   ]
  },
  {
   "cell_type": "code",
   "execution_count": 18,
   "id": "4cb31f86",
   "metadata": {},
   "outputs": [
    {
     "data": {
      "text/plain": [
       "157.60178"
      ]
     },
     "execution_count": 18,
     "metadata": {},
     "output_type": "execute_result"
    }
   ],
   "source": [
    "np.linalg.norm(Y,2)"
   ]
  },
  {
   "cell_type": "code",
   "execution_count": 19,
   "id": "cb0528b7",
   "metadata": {},
   "outputs": [
    {
     "data": {
      "text/plain": [
       "9.830090679491631"
      ]
     },
     "execution_count": 19,
     "metadata": {},
     "output_type": "execute_result"
    }
   ],
   "source": [
    "np.linalg.norm(X,2)"
   ]
  },
  {
   "cell_type": "code",
   "execution_count": 20,
   "id": "d0b60193",
   "metadata": {},
   "outputs": [],
   "source": [
    "BaseEstimator=sklearn.base.BaseEstimator"
   ]
  },
  {
   "cell_type": "markdown",
   "id": "7e00bd3e",
   "metadata": {},
   "source": [
    "### Neural Network"
   ]
  },
  {
   "cell_type": "code",
   "execution_count": 21,
   "id": "454dbe91",
   "metadata": {},
   "outputs": [],
   "source": [
    "import tensorflow.keras.backend as kb\n",
    "from tensorflow import keras"
   ]
  },
  {
   "cell_type": "code",
   "execution_count": 22,
   "id": "7e07b003",
   "metadata": {},
   "outputs": [],
   "source": [
    "import tensorflow_addons as tfa\n",
    "import keras_tuner as kt"
   ]
  },
  {
   "cell_type": "code",
   "execution_count": 23,
   "id": "1d8559d4",
   "metadata": {},
   "outputs": [],
   "source": [
    "def custom_loss(y_actual,y_pred):\n",
    "    custom_loss=kb.square(y_actual-y_pred)\n",
    "    return custom_loss"
   ]
  },
  {
   "cell_type": "code",
   "execution_count": 24,
   "id": "45ff4b2d",
   "metadata": {},
   "outputs": [],
   "source": [
    "class KerasNeuralNetwork(BaseEstimator):\n",
    "    def __init__(self,nlayers=2,depth=[100]):\n",
    "        self.nlayers=nlayers\n",
    "        self.depth=depth\n",
    "        self.model=None\n",
    "    def fit(self,X,y=None,**fit_params):\n",
    "        '''\n",
    "        create a sequentil neural network\n",
    "        add layers and activations\n",
    "        model = Sequential(...)\n",
    "        model.fit(X,y)\n",
    "        '''\n",
    "        model=tf.keras.models.Sequential([tf.keras.layers.Flatten(),\n",
    "                                 tf.keras.layers.Dense(100,activation=tf.nn.leaky_relu),\n",
    "                                tf.keras.layers.Dense(400,activation=tf.nn.leaky_relu),\n",
    "                                 tf.keras.layers.Dense(800,activation=tf.nn.leaky_relu),\n",
    "                                tf.keras.layers.Dense(1152,activation=tf.nn.leaky_relu)])\n",
    "        model.compile(optimizer=tf.optimizers.Adam(),loss=custom_loss,\n",
    "             metrics=[ tf.keras.metrics.RootMeanSquaredError()])\n",
    "        history=model.fit(X,y,epochs=100, callbacks=[callbacks])\n",
    "        self.model=model\n",
    "        return model,history\n",
    "    def predict(self,X):\n",
    "        '''\n",
    "        model.predict(X)\n",
    "        '''\n",
    "        self.model.predict(X)\n",
    "        return self.model.predict(X)"
   ]
  },
  {
   "cell_type": "code",
   "execution_count": 89,
   "id": "20914181",
   "metadata": {},
   "outputs": [],
   "source": [
    "class myCallback(tf.keras.callbacks.Callback):\n",
    "    def on_epoch_end(self,epoch,logs={}):\n",
    "        if(logs.get(\"loss\")<0):\n",
    "            print(\"\\nLoss is lower than 100 so cancelling training!\")\n",
    "            self.model.stop_training = True\n",
    "callbacks=myCallback()\n"
   ]
  },
  {
   "cell_type": "code",
   "execution_count": 90,
   "id": "9bee29b2",
   "metadata": {
    "scrolled": false
   },
   "outputs": [
    {
     "name": "stdout",
     "output_type": "stream",
     "text": [
      "Epoch 1/100\n",
      "7/7 [==============================] - 0s 13ms/step - loss: 0.0825 - root_mean_squared_error: 0.2873\n",
      "Epoch 2/100\n",
      "1/7 [===>..........................] - ETA: 0s - loss: 0.0430 - root_mean_squared_error: 0.2073"
     ]
    },
    {
     "name": "stderr",
     "output_type": "stream",
     "text": [
      "2022-04-07 16:58:18.034515: I tensorflow/core/grappler/optimizers/custom_graph_optimizer_registry.cc:113] Plugin optimizer for device_type GPU is enabled.\n"
     ]
    },
    {
     "name": "stdout",
     "output_type": "stream",
     "text": [
      "7/7 [==============================] - 0s 10ms/step - loss: 0.0343 - root_mean_squared_error: 0.1851\n",
      "Epoch 3/100\n",
      "7/7 [==============================] - 0s 7ms/step - loss: 0.0236 - root_mean_squared_error: 0.1537\n",
      "Epoch 4/100\n",
      "7/7 [==============================] - 0s 7ms/step - loss: 0.0172 - root_mean_squared_error: 0.1311\n",
      "Epoch 5/100\n",
      "7/7 [==============================] - 0s 7ms/step - loss: 0.0138 - root_mean_squared_error: 0.1176\n",
      "Epoch 6/100\n",
      "7/7 [==============================] - 0s 7ms/step - loss: 0.0111 - root_mean_squared_error: 0.1051\n",
      "Epoch 7/100\n",
      "7/7 [==============================] - 0s 7ms/step - loss: 0.0094 - root_mean_squared_error: 0.0970\n",
      "Epoch 8/100\n",
      "7/7 [==============================] - 0s 6ms/step - loss: 0.0081 - root_mean_squared_error: 0.0900\n",
      "Epoch 9/100\n",
      "7/7 [==============================] - 0s 7ms/step - loss: 0.0072 - root_mean_squared_error: 0.0846\n",
      "Epoch 10/100\n",
      "7/7 [==============================] - 0s 7ms/step - loss: 0.0065 - root_mean_squared_error: 0.0807\n",
      "Epoch 11/100\n",
      "7/7 [==============================] - 0s 7ms/step - loss: 0.0059 - root_mean_squared_error: 0.0765\n",
      "Epoch 12/100\n",
      "7/7 [==============================] - 0s 7ms/step - loss: 0.0054 - root_mean_squared_error: 0.0737\n",
      "Epoch 13/100\n",
      "7/7 [==============================] - 0s 8ms/step - loss: 0.0050 - root_mean_squared_error: 0.0710\n",
      "Epoch 14/100\n",
      "7/7 [==============================] - 0s 7ms/step - loss: 0.0047 - root_mean_squared_error: 0.0687\n",
      "Epoch 15/100\n",
      "7/7 [==============================] - 0s 7ms/step - loss: 0.0044 - root_mean_squared_error: 0.0667\n",
      "Epoch 16/100\n",
      "7/7 [==============================] - 0s 7ms/step - loss: 0.0042 - root_mean_squared_error: 0.0646\n",
      "Epoch 17/100\n",
      "7/7 [==============================] - 0s 7ms/step - loss: 0.0038 - root_mean_squared_error: 0.0617\n",
      "Epoch 18/100\n",
      "7/7 [==============================] - 0s 8ms/step - loss: 0.0035 - root_mean_squared_error: 0.0593\n",
      "Epoch 19/100\n",
      "7/7 [==============================] - 0s 8ms/step - loss: 0.0034 - root_mean_squared_error: 0.0582\n",
      "Epoch 20/100\n",
      "7/7 [==============================] - 0s 8ms/step - loss: 0.0033 - root_mean_squared_error: 0.0572\n",
      "Epoch 21/100\n",
      "7/7 [==============================] - 0s 7ms/step - loss: 0.0032 - root_mean_squared_error: 0.0563\n",
      "Epoch 22/100\n",
      "7/7 [==============================] - 0s 7ms/step - loss: 0.0031 - root_mean_squared_error: 0.0557\n",
      "Epoch 23/100\n",
      "7/7 [==============================] - 0s 8ms/step - loss: 0.0030 - root_mean_squared_error: 0.0546\n",
      "Epoch 24/100\n",
      "7/7 [==============================] - 0s 7ms/step - loss: 0.0029 - root_mean_squared_error: 0.0535\n",
      "Epoch 25/100\n",
      "7/7 [==============================] - 0s 7ms/step - loss: 0.0028 - root_mean_squared_error: 0.0529\n",
      "Epoch 26/100\n",
      "7/7 [==============================] - 0s 7ms/step - loss: 0.0028 - root_mean_squared_error: 0.0525\n",
      "Epoch 27/100\n",
      "7/7 [==============================] - 0s 7ms/step - loss: 0.0027 - root_mean_squared_error: 0.0516\n",
      "Epoch 28/100\n",
      "7/7 [==============================] - 0s 7ms/step - loss: 0.0026 - root_mean_squared_error: 0.0511\n",
      "Epoch 29/100\n",
      "7/7 [==============================] - 0s 7ms/step - loss: 0.0026 - root_mean_squared_error: 0.0506\n",
      "Epoch 30/100\n",
      "7/7 [==============================] - 0s 7ms/step - loss: 0.0025 - root_mean_squared_error: 0.0504\n",
      "Epoch 31/100\n",
      "7/7 [==============================] - 0s 7ms/step - loss: 0.0025 - root_mean_squared_error: 0.0498\n",
      "Epoch 32/100\n",
      "7/7 [==============================] - 0s 7ms/step - loss: 0.0024 - root_mean_squared_error: 0.0494\n",
      "Epoch 33/100\n",
      "7/7 [==============================] - 0s 7ms/step - loss: 0.0024 - root_mean_squared_error: 0.0490\n",
      "Epoch 34/100\n",
      "7/7 [==============================] - 0s 7ms/step - loss: 0.0024 - root_mean_squared_error: 0.0488\n",
      "Epoch 35/100\n",
      "7/7 [==============================] - 0s 7ms/step - loss: 0.0023 - root_mean_squared_error: 0.0485\n",
      "Epoch 36/100\n",
      "7/7 [==============================] - 0s 7ms/step - loss: 0.0023 - root_mean_squared_error: 0.0481\n",
      "Epoch 37/100\n",
      "7/7 [==============================] - 0s 7ms/step - loss: 0.0023 - root_mean_squared_error: 0.0478\n",
      "Epoch 38/100\n",
      "7/7 [==============================] - 0s 7ms/step - loss: 0.0022 - root_mean_squared_error: 0.0473\n",
      "Epoch 39/100\n",
      "7/7 [==============================] - 0s 7ms/step - loss: 0.0022 - root_mean_squared_error: 0.0472\n",
      "Epoch 40/100\n",
      "7/7 [==============================] - 0s 7ms/step - loss: 0.0022 - root_mean_squared_error: 0.0470\n",
      "Epoch 41/100\n",
      "7/7 [==============================] - 0s 7ms/step - loss: 0.0022 - root_mean_squared_error: 0.0467\n",
      "Epoch 42/100\n",
      "7/7 [==============================] - 0s 7ms/step - loss: 0.0022 - root_mean_squared_error: 0.0465\n",
      "Epoch 43/100\n",
      "7/7 [==============================] - 0s 8ms/step - loss: 0.0022 - root_mean_squared_error: 0.0464\n",
      "Epoch 44/100\n",
      "7/7 [==============================] - 0s 8ms/step - loss: 0.0021 - root_mean_squared_error: 0.0460\n",
      "Epoch 45/100\n",
      "7/7 [==============================] - 0s 7ms/step - loss: 0.0021 - root_mean_squared_error: 0.0458\n",
      "Epoch 46/100\n",
      "7/7 [==============================] - 0s 7ms/step - loss: 0.0021 - root_mean_squared_error: 0.0456\n",
      "Epoch 47/100\n",
      "7/7 [==============================] - 0s 7ms/step - loss: 0.0021 - root_mean_squared_error: 0.0453\n",
      "Epoch 48/100\n",
      "7/7 [==============================] - 0s 7ms/step - loss: 0.0020 - root_mean_squared_error: 0.0450\n",
      "Epoch 49/100\n",
      "7/7 [==============================] - 0s 7ms/step - loss: 0.0020 - root_mean_squared_error: 0.0450\n",
      "Epoch 50/100\n",
      "7/7 [==============================] - 0s 7ms/step - loss: 0.0020 - root_mean_squared_error: 0.0448\n",
      "Epoch 51/100\n",
      "7/7 [==============================] - 0s 7ms/step - loss: 0.0020 - root_mean_squared_error: 0.0447\n",
      "Epoch 52/100\n",
      "7/7 [==============================] - 0s 7ms/step - loss: 0.0020 - root_mean_squared_error: 0.0444\n",
      "Epoch 53/100\n",
      "7/7 [==============================] - 0s 7ms/step - loss: 0.0019 - root_mean_squared_error: 0.0441\n",
      "Epoch 54/100\n",
      "7/7 [==============================] - 0s 7ms/step - loss: 0.0019 - root_mean_squared_error: 0.0440\n",
      "Epoch 55/100\n",
      "7/7 [==============================] - 0s 7ms/step - loss: 0.0019 - root_mean_squared_error: 0.0441\n",
      "Epoch 56/100\n",
      "7/7 [==============================] - 0s 7ms/step - loss: 0.0019 - root_mean_squared_error: 0.0436\n",
      "Epoch 57/100\n",
      "7/7 [==============================] - 0s 7ms/step - loss: 0.0019 - root_mean_squared_error: 0.0432\n",
      "Epoch 58/100\n",
      "7/7 [==============================] - 0s 7ms/step - loss: 0.0019 - root_mean_squared_error: 0.0433\n",
      "Epoch 59/100\n",
      "7/7 [==============================] - 0s 8ms/step - loss: 0.0019 - root_mean_squared_error: 0.0433\n",
      "Epoch 60/100\n",
      "7/7 [==============================] - 0s 8ms/step - loss: 0.0019 - root_mean_squared_error: 0.0432\n",
      "Epoch 61/100\n",
      "7/7 [==============================] - 0s 8ms/step - loss: 0.0018 - root_mean_squared_error: 0.0427\n",
      "Epoch 62/100\n",
      "7/7 [==============================] - 0s 8ms/step - loss: 0.0018 - root_mean_squared_error: 0.0426\n",
      "Epoch 63/100\n",
      "7/7 [==============================] - 0s 7ms/step - loss: 0.0018 - root_mean_squared_error: 0.0425\n",
      "Epoch 64/100\n",
      "7/7 [==============================] - 0s 7ms/step - loss: 0.0018 - root_mean_squared_error: 0.0425\n",
      "Epoch 65/100\n",
      "7/7 [==============================] - 0s 7ms/step - loss: 0.0018 - root_mean_squared_error: 0.0423\n",
      "Epoch 66/100\n",
      "7/7 [==============================] - 0s 7ms/step - loss: 0.0018 - root_mean_squared_error: 0.0421\n",
      "Epoch 67/100\n",
      "7/7 [==============================] - 0s 7ms/step - loss: 0.0018 - root_mean_squared_error: 0.0421\n",
      "Epoch 68/100\n",
      "7/7 [==============================] - 0s 7ms/step - loss: 0.0017 - root_mean_squared_error: 0.0418\n",
      "Epoch 69/100\n",
      "7/7 [==============================] - 0s 7ms/step - loss: 0.0017 - root_mean_squared_error: 0.0417\n",
      "Epoch 70/100\n",
      "7/7 [==============================] - 0s 7ms/step - loss: 0.0017 - root_mean_squared_error: 0.0416\n",
      "Epoch 71/100\n",
      "7/7 [==============================] - 0s 7ms/step - loss: 0.0017 - root_mean_squared_error: 0.0413\n",
      "Epoch 72/100\n",
      "7/7 [==============================] - 0s 8ms/step - loss: 0.0017 - root_mean_squared_error: 0.0411\n",
      "Epoch 73/100\n",
      "7/7 [==============================] - 0s 8ms/step - loss: 0.0017 - root_mean_squared_error: 0.0412\n",
      "Epoch 74/100\n",
      "7/7 [==============================] - 0s 8ms/step - loss: 0.0017 - root_mean_squared_error: 0.0411\n",
      "Epoch 75/100\n",
      "7/7 [==============================] - 0s 7ms/step - loss: 0.0017 - root_mean_squared_error: 0.0409\n",
      "Epoch 76/100\n",
      "7/7 [==============================] - 0s 7ms/step - loss: 0.0017 - root_mean_squared_error: 0.0407\n",
      "Epoch 77/100\n",
      "7/7 [==============================] - 0s 7ms/step - loss: 0.0017 - root_mean_squared_error: 0.0406\n",
      "Epoch 78/100\n",
      "7/7 [==============================] - 0s 8ms/step - loss: 0.0016 - root_mean_squared_error: 0.0406\n",
      "Epoch 79/100\n",
      "7/7 [==============================] - 0s 8ms/step - loss: 0.0016 - root_mean_squared_error: 0.0405\n",
      "Epoch 80/100\n",
      "7/7 [==============================] - 0s 8ms/step - loss: 0.0016 - root_mean_squared_error: 0.0406\n",
      "Epoch 81/100\n",
      "7/7 [==============================] - 0s 7ms/step - loss: 0.0016 - root_mean_squared_error: 0.0405\n",
      "Epoch 82/100\n",
      "7/7 [==============================] - 0s 8ms/step - loss: 0.0016 - root_mean_squared_error: 0.0402\n",
      "Epoch 83/100\n",
      "7/7 [==============================] - 0s 8ms/step - loss: 0.0016 - root_mean_squared_error: 0.0401\n",
      "Epoch 84/100\n",
      "7/7 [==============================] - 0s 8ms/step - loss: 0.0016 - root_mean_squared_error: 0.0401\n",
      "Epoch 85/100\n",
      "7/7 [==============================] - 0s 8ms/step - loss: 0.0016 - root_mean_squared_error: 0.0401\n",
      "Epoch 86/100\n",
      "7/7 [==============================] - 0s 8ms/step - loss: 0.0016 - root_mean_squared_error: 0.0399\n",
      "Epoch 87/100\n",
      "7/7 [==============================] - 0s 7ms/step - loss: 0.0016 - root_mean_squared_error: 0.0397\n",
      "Epoch 88/100\n",
      "7/7 [==============================] - 0s 8ms/step - loss: 0.0016 - root_mean_squared_error: 0.0396\n",
      "Epoch 89/100\n",
      "7/7 [==============================] - 0s 8ms/step - loss: 0.0016 - root_mean_squared_error: 0.0396\n",
      "Epoch 90/100\n",
      "7/7 [==============================] - 0s 8ms/step - loss: 0.0016 - root_mean_squared_error: 0.0394\n",
      "Epoch 91/100\n",
      "7/7 [==============================] - 0s 7ms/step - loss: 0.0015 - root_mean_squared_error: 0.0393\n",
      "Epoch 92/100\n",
      "7/7 [==============================] - 0s 7ms/step - loss: 0.0015 - root_mean_squared_error: 0.0392\n",
      "Epoch 93/100\n",
      "7/7 [==============================] - 0s 7ms/step - loss: 0.0015 - root_mean_squared_error: 0.0390\n",
      "Epoch 94/100\n",
      "7/7 [==============================] - 0s 8ms/step - loss: 0.0015 - root_mean_squared_error: 0.0388\n",
      "Epoch 95/100\n",
      "7/7 [==============================] - 0s 7ms/step - loss: 0.0015 - root_mean_squared_error: 0.0387\n",
      "Epoch 96/100\n",
      "7/7 [==============================] - 0s 7ms/step - loss: 0.0015 - root_mean_squared_error: 0.0388\n",
      "Epoch 97/100\n",
      "7/7 [==============================] - 0s 7ms/step - loss: 0.0015 - root_mean_squared_error: 0.0389\n",
      "Epoch 98/100\n",
      "7/7 [==============================] - 0s 7ms/step - loss: 0.0015 - root_mean_squared_error: 0.0388\n",
      "Epoch 99/100\n",
      "7/7 [==============================] - 0s 7ms/step - loss: 0.0015 - root_mean_squared_error: 0.0386\n",
      "Epoch 100/100\n",
      "7/7 [==============================] - 0s 7ms/step - loss: 0.0015 - root_mean_squared_error: 0.0385\n"
     ]
    }
   ],
   "source": [
    "Base=BaseEstimator()\n",
    "ker=KerasNeuralNetwork(Base)\n",
    "model,history=ker.fit(X_train,Y_train, callbacks=[callbacks])"
   ]
  },
  {
   "cell_type": "code",
   "execution_count": 91,
   "id": "4a6e2ae4",
   "metadata": {},
   "outputs": [
    {
     "data": {
      "text/plain": [
       "{'loss': [0.08254110813140869,\n",
       "  0.034278396517038345,\n",
       "  0.023627281188964844,\n",
       "  0.017198234796524048,\n",
       "  0.013820922933518887,\n",
       "  0.011051607318222523,\n",
       "  0.009400610812008381,\n",
       "  0.008100086823105812,\n",
       "  0.007161371409893036,\n",
       "  0.006509307771921158,\n",
       "  0.005856912583112717,\n",
       "  0.005426998715847731,\n",
       "  0.005045854952186346,\n",
       "  0.004718806128948927,\n",
       "  0.0044440701603889465,\n",
       "  0.004171470180153847,\n",
       "  0.0038019760977476835,\n",
       "  0.00351843424141407,\n",
       "  0.003381422720849514,\n",
       "  0.003274313174188137,\n",
       "  0.0031648948788642883,\n",
       "  0.003100341884419322,\n",
       "  0.002977572614327073,\n",
       "  0.0028576457407325506,\n",
       "  0.00280185928568244,\n",
       "  0.002752982545644045,\n",
       "  0.002660872647538781,\n",
       "  0.0026160574052482843,\n",
       "  0.002560619032010436,\n",
       "  0.0025381369050592184,\n",
       "  0.0024789078161120415,\n",
       "  0.002440663054585457,\n",
       "  0.002399472752586007,\n",
       "  0.002385431667789817,\n",
       "  0.0023495531640946865,\n",
       "  0.0023106844164431095,\n",
       "  0.0022856639698147774,\n",
       "  0.0022419074084609747,\n",
       "  0.0022318342234939337,\n",
       "  0.0022077548783272505,\n",
       "  0.0021771190222352743,\n",
       "  0.0021610476542264223,\n",
       "  0.0021561547182500362,\n",
       "  0.0021179253235459328,\n",
       "  0.002099347533658147,\n",
       "  0.0020754120778292418,\n",
       "  0.0020562722347676754,\n",
       "  0.0020263793412595987,\n",
       "  0.0020218081772327423,\n",
       "  0.0020049544982612133,\n",
       "  0.0019963672384619713,\n",
       "  0.0019711265340447426,\n",
       "  0.001945635536685586,\n",
       "  0.0019362285966053605,\n",
       "  0.0019423090852797031,\n",
       "  0.0019049305701628327,\n",
       "  0.0018701397348195314,\n",
       "  0.0018771213945001364,\n",
       "  0.0018751819152384996,\n",
       "  0.0018670037388801575,\n",
       "  0.0018245151732116938,\n",
       "  0.0018107572104781866,\n",
       "  0.0018031168729066849,\n",
       "  0.0018029325874522328,\n",
       "  0.0017934381030499935,\n",
       "  0.0017720945179462433,\n",
       "  0.0017725516809150577,\n",
       "  0.0017438146751374006,\n",
       "  0.0017371813300997019,\n",
       "  0.0017311804695054889,\n",
       "  0.0017054874915629625,\n",
       "  0.0016892171697691083,\n",
       "  0.001700516790151596,\n",
       "  0.0016886360244825482,\n",
       "  0.0016726715257391334,\n",
       "  0.001657441956922412,\n",
       "  0.001651198137551546,\n",
       "  0.001648287521675229,\n",
       "  0.0016390345990657806,\n",
       "  0.0016449226532131433,\n",
       "  0.001638535875827074,\n",
       "  0.0016122459201142192,\n",
       "  0.0016062360955402255,\n",
       "  0.0016067326068878174,\n",
       "  0.0016057298053056002,\n",
       "  0.0015894268872216344,\n",
       "  0.0015777043299749494,\n",
       "  0.0015678566414862871,\n",
       "  0.0015662078512832522,\n",
       "  0.001551827765069902,\n",
       "  0.001544501050375402,\n",
       "  0.0015390000771731138,\n",
       "  0.0015195846790447831,\n",
       "  0.0015047751367092133,\n",
       "  0.0014987729955464602,\n",
       "  0.0015042501036077738,\n",
       "  0.0015099308220669627,\n",
       "  0.0015036625554785132,\n",
       "  0.0014921922702342272,\n",
       "  0.0014851826708763838],\n",
       " 'root_mean_squared_error': [0.2872996926307678,\n",
       "  0.18514427542686462,\n",
       "  0.15371167659759521,\n",
       "  0.1311420500278473,\n",
       "  0.117562435567379,\n",
       "  0.10512664169073105,\n",
       "  0.0969567522406578,\n",
       "  0.09000049531459808,\n",
       "  0.08462488651275635,\n",
       "  0.08068028092384338,\n",
       "  0.07653047144412994,\n",
       "  0.07366815954446793,\n",
       "  0.07103418558835983,\n",
       "  0.06869357079267502,\n",
       "  0.06666386127471924,\n",
       "  0.06458692252635956,\n",
       "  0.061660174280405045,\n",
       "  0.05931639298796654,\n",
       "  0.05815000459551811,\n",
       "  0.05722162127494812,\n",
       "  0.05625740438699722,\n",
       "  0.05568071827292442,\n",
       "  0.054567139595746994,\n",
       "  0.053456954658031464,\n",
       "  0.05293259397149086,\n",
       "  0.05246887356042862,\n",
       "  0.05158365145325661,\n",
       "  0.05114740878343582,\n",
       "  0.05060255900025368,\n",
       "  0.050379928201436996,\n",
       "  0.04978863522410393,\n",
       "  0.04940307140350342,\n",
       "  0.04898441582918167,\n",
       "  0.04884088784456253,\n",
       "  0.04847218841314316,\n",
       "  0.048069581389427185,\n",
       "  0.04780861735343933,\n",
       "  0.047348786145448685,\n",
       "  0.04724229499697685,\n",
       "  0.04698675870895386,\n",
       "  0.04665961116552353,\n",
       "  0.04648707062005997,\n",
       "  0.046434417366981506,\n",
       "  0.04602092504501343,\n",
       "  0.04581863805651665,\n",
       "  0.0455566942691803,\n",
       "  0.04534614086151123,\n",
       "  0.045015327632427216,\n",
       "  0.04496452212333679,\n",
       "  0.04477671906352043,\n",
       "  0.04468072950839996,\n",
       "  0.044397372752428055,\n",
       "  0.04410936310887337,\n",
       "  0.04400260001420975,\n",
       "  0.044071637094020844,\n",
       "  0.04364550858736038,\n",
       "  0.043245118111371994,\n",
       "  0.0433257594704628,\n",
       "  0.04330337420105934,\n",
       "  0.04320884123444557,\n",
       "  0.04271434620022774,\n",
       "  0.04255299270153046,\n",
       "  0.04246312752366066,\n",
       "  0.04246095195412636,\n",
       "  0.04234900325536728,\n",
       "  0.04209625720977783,\n",
       "  0.04210168495774269,\n",
       "  0.041759006679058075,\n",
       "  0.0416795089840889,\n",
       "  0.041607458144426346,\n",
       "  0.0412975512444973,\n",
       "  0.04110008850693703,\n",
       "  0.041237324476242065,\n",
       "  0.041093017905950546,\n",
       "  0.04089830815792084,\n",
       "  0.040711697190999985,\n",
       "  0.04063493385910988,\n",
       "  0.04059910774230957,\n",
       "  0.040484990924596786,\n",
       "  0.04055764526128769,\n",
       "  0.04047883301973343,\n",
       "  0.04015278443694115,\n",
       "  0.040077876299619675,\n",
       "  0.04008406773209572,\n",
       "  0.04007155820727348,\n",
       "  0.039867617189884186,\n",
       "  0.0397203266620636,\n",
       "  0.03959617391228676,\n",
       "  0.03957534208893776,\n",
       "  0.03939324617385864,\n",
       "  0.039300139993429184,\n",
       "  0.039230093359947205,\n",
       "  0.0389818511903286,\n",
       "  0.03879143297672272,\n",
       "  0.03871399164199829,\n",
       "  0.03878466412425041,\n",
       "  0.038857828825712204,\n",
       "  0.03877709433436394,\n",
       "  0.03862890601158142,\n",
       "  0.038538068532943726]}"
      ]
     },
     "execution_count": 91,
     "metadata": {},
     "output_type": "execute_result"
    }
   ],
   "source": [
    "history.history"
   ]
  },
  {
   "cell_type": "code",
   "execution_count": 93,
   "id": "2157e21a",
   "metadata": {
    "scrolled": true
   },
   "outputs": [
    {
     "data": {
      "text/plain": [
       "[<matplotlib.lines.Line2D at 0x2d2886520>]"
      ]
     },
     "execution_count": 93,
     "metadata": {},
     "output_type": "execute_result"
    },
    {
     "data": {
      "image/png": "[encoded data removed]",
      "text/plain": [
       "<Figure size 432x288 with 1 Axes>"
      ]
     },
     "metadata": {
      "needs_background": "light"
     },
     "output_type": "display_data"
    }
   ],
   "source": [
    "plt.plot(history.history[\"loss\"])"
   ]
  },
  {
   "cell_type": "code",
   "execution_count": 94,
   "id": "5b9c8a90",
   "metadata": {},
   "outputs": [
    {
     "name": "stdout",
     "output_type": "stream",
     "text": [
      "WARNING:tensorflow:5 out of the last 9 calls to <function Model.make_test_function.<locals>.test_function at 0x2c6348040> triggered tf.function retracing. Tracing is expensive and the excessive number of tracings could be due to (1) creating @tf.function repeatedly in a loop, (2) passing tensors with different shapes, (3) passing Python objects instead of tensors. For (1), please define your @tf.function outside of the loop. For (2), @tf.function has experimental_relax_shapes=True option that relaxes argument shapes that can avoid unnecessary retracing. For (3), please refer to https://www.tensorflow.org/guide/function#controlling_retracing and https://www.tensorflow.org/api_docs/python/tf/function for  more details.\n",
      "2/2 [==============================] - 0s 15ms/step - loss: 0.0025 - root_mean_squared_error: 0.0497\n"
     ]
    },
    {
     "name": "stderr",
     "output_type": "stream",
     "text": [
      "2022-04-07 16:58:25.145216: I tensorflow/core/grappler/optimizers/custom_graph_optimizer_registry.cc:113] Plugin optimizer for device_type GPU is enabled.\n"
     ]
    },
    {
     "data": {
      "text/plain": [
       "[0.002474912442266941, 0.0497484914958477]"
      ]
     },
     "execution_count": 94,
     "metadata": {},
     "output_type": "execute_result"
    }
   ],
   "source": [
    "model.evaluate(X_test,Y_test)"
   ]
  },
  {
   "cell_type": "code",
   "execution_count": 95,
   "id": "4e599642",
   "metadata": {
    "scrolled": true
   },
   "outputs": [
    {
     "name": "stderr",
     "output_type": "stream",
     "text": [
      "2022-04-07 16:58:25.861720: I tensorflow/core/grappler/optimizers/custom_graph_optimizer_registry.cc:113] Plugin optimizer for device_type GPU is enabled.\n"
     ]
    },
    {
     "data": {
      "text/plain": [
       "array([[ 0.13198361,  0.14812742,  0.15924132, ..., -0.00280328,\n",
       "        -0.00182816, -0.00235879],\n",
       "       [ 0.14286073,  0.16227432,  0.16570523, ..., -0.00498657,\n",
       "        -0.00031762, -0.00083846],\n",
       "       [ 0.13541332,  0.15535669,  0.14325131, ..., -0.00021752,\n",
       "        -0.00125042, -0.00218423],\n",
       "       ...,\n",
       "       [ 0.13635568,  0.1501581 ,  0.15528344, ..., -0.00541278,\n",
       "        -0.00335352, -0.00415948],\n",
       "       [ 0.12727855,  0.1471924 ,  0.15583138, ..., -0.00229388,\n",
       "        -0.00032134, -0.00188782],\n",
       "       [ 0.13374414,  0.16081972,  0.1573657 , ..., -0.00469321,\n",
       "        -0.00048604, -0.00361509]], dtype=float32)"
      ]
     },
     "execution_count": 95,
     "metadata": {},
     "output_type": "execute_result"
    }
   ],
   "source": [
    "model.predict(X_test)"
   ]
  },
  {
   "cell_type": "code",
   "execution_count": 96,
   "id": "b12e7598",
   "metadata": {},
   "outputs": [
    {
     "name": "stdout",
     "output_type": "stream",
     "text": [
      "Epoch 1/100\n",
      "4/4 [==============================] - 0s 14ms/step - loss: 0.0940 - root_mean_squared_error: 0.3066\n",
      "Epoch 2/100\n",
      "4/4 [==============================] - 0s 8ms/step - loss: 0.0578 - root_mean_squared_error: 0.2404\n",
      "Epoch 3/100\n",
      "4/4 [==============================] - 0s 7ms/step - loss: 0.0371 - root_mean_squared_error: 0.1926\n",
      "Epoch 4/100\n"
     ]
    },
    {
     "name": "stderr",
     "output_type": "stream",
     "text": [
      "2022-04-07 16:58:26.898827: I tensorflow/core/grappler/optimizers/custom_graph_optimizer_registry.cc:113] Plugin optimizer for device_type GPU is enabled.\n"
     ]
    },
    {
     "name": "stdout",
     "output_type": "stream",
     "text": [
      "4/4 [==============================] - 0s 8ms/step - loss: 0.0265 - root_mean_squared_error: 0.1628\n",
      "Epoch 5/100\n",
      "4/4 [==============================] - 0s 12ms/step - loss: 0.0251 - root_mean_squared_error: 0.1584\n",
      "Epoch 6/100\n",
      "4/4 [==============================] - 0s 7ms/step - loss: 0.0195 - root_mean_squared_error: 0.1397\n",
      "Epoch 7/100\n",
      "4/4 [==============================] - 0s 7ms/step - loss: 0.0161 - root_mean_squared_error: 0.1268\n",
      "Epoch 8/100\n",
      "4/4 [==============================] - 0s 7ms/step - loss: 0.0145 - root_mean_squared_error: 0.1205\n",
      "Epoch 9/100\n",
      "4/4 [==============================] - 0s 8ms/step - loss: 0.0126 - root_mean_squared_error: 0.1124\n",
      "Epoch 10/100\n",
      "4/4 [==============================] - 0s 7ms/step - loss: 0.0110 - root_mean_squared_error: 0.1050\n",
      "Epoch 11/100\n",
      "4/4 [==============================] - 0s 7ms/step - loss: 0.0101 - root_mean_squared_error: 0.1005\n",
      "Epoch 12/100\n",
      "4/4 [==============================] - 0s 8ms/step - loss: 0.0092 - root_mean_squared_error: 0.0960\n",
      "Epoch 13/100\n",
      "4/4 [==============================] - 0s 8ms/step - loss: 0.0082 - root_mean_squared_error: 0.0904\n",
      "Epoch 14/100\n",
      "4/4 [==============================] - 0s 8ms/step - loss: 0.0077 - root_mean_squared_error: 0.0880\n",
      "Epoch 15/100\n",
      "4/4 [==============================] - 0s 8ms/step - loss: 0.0072 - root_mean_squared_error: 0.0847\n",
      "Epoch 16/100\n",
      "4/4 [==============================] - 0s 7ms/step - loss: 0.0066 - root_mean_squared_error: 0.0814\n",
      "Epoch 17/100\n",
      "4/4 [==============================] - 0s 7ms/step - loss: 0.0062 - root_mean_squared_error: 0.0789\n",
      "Epoch 18/100\n",
      "4/4 [==============================] - 0s 7ms/step - loss: 0.0059 - root_mean_squared_error: 0.0769\n",
      "Epoch 19/100\n",
      "4/4 [==============================] - 0s 7ms/step - loss: 0.0056 - root_mean_squared_error: 0.0747\n",
      "Epoch 20/100\n",
      "4/4 [==============================] - 0s 7ms/step - loss: 0.0052 - root_mean_squared_error: 0.0724\n",
      "Epoch 21/100\n",
      "4/4 [==============================] - 0s 7ms/step - loss: 0.0050 - root_mean_squared_error: 0.0706\n",
      "Epoch 22/100\n",
      "4/4 [==============================] - 0s 7ms/step - loss: 0.0047 - root_mean_squared_error: 0.0686\n",
      "Epoch 23/100\n",
      "4/4 [==============================] - 0s 7ms/step - loss: 0.0045 - root_mean_squared_error: 0.0669\n",
      "Epoch 24/100\n",
      "4/4 [==============================] - 0s 7ms/step - loss: 0.0043 - root_mean_squared_error: 0.0654\n",
      "Epoch 25/100\n",
      "4/4 [==============================] - 0s 7ms/step - loss: 0.0041 - root_mean_squared_error: 0.0638\n",
      "Epoch 26/100\n",
      "4/4 [==============================] - 0s 7ms/step - loss: 0.0039 - root_mean_squared_error: 0.0626\n",
      "Epoch 27/100\n",
      "4/4 [==============================] - 0s 8ms/step - loss: 0.0038 - root_mean_squared_error: 0.0613\n",
      "Epoch 28/100\n",
      "4/4 [==============================] - 0s 8ms/step - loss: 0.0036 - root_mean_squared_error: 0.0603\n",
      "Epoch 29/100\n",
      "4/4 [==============================] - 0s 7ms/step - loss: 0.0035 - root_mean_squared_error: 0.0595\n",
      "Epoch 30/100\n",
      "4/4 [==============================] - 0s 7ms/step - loss: 0.0035 - root_mean_squared_error: 0.0591\n",
      "Epoch 31/100\n",
      "4/4 [==============================] - 0s 8ms/step - loss: 0.0034 - root_mean_squared_error: 0.0580\n",
      "Epoch 32/100\n",
      "4/4 [==============================] - 0s 7ms/step - loss: 0.0034 - root_mean_squared_error: 0.0581\n",
      "Epoch 33/100\n",
      "4/4 [==============================] - 0s 7ms/step - loss: 0.0033 - root_mean_squared_error: 0.0572\n",
      "Epoch 34/100\n",
      "4/4 [==============================] - 0s 7ms/step - loss: 0.0032 - root_mean_squared_error: 0.0564\n",
      "Epoch 35/100\n",
      "4/4 [==============================] - 0s 8ms/step - loss: 0.0031 - root_mean_squared_error: 0.0555\n",
      "Epoch 36/100\n",
      "4/4 [==============================] - 0s 7ms/step - loss: 0.0030 - root_mean_squared_error: 0.0549\n",
      "Epoch 37/100\n",
      "4/4 [==============================] - 0s 8ms/step - loss: 0.0029 - root_mean_squared_error: 0.0536\n",
      "Epoch 38/100\n",
      "4/4 [==============================] - 0s 7ms/step - loss: 0.0028 - root_mean_squared_error: 0.0531\n",
      "Epoch 39/100\n",
      "4/4 [==============================] - 0s 7ms/step - loss: 0.0028 - root_mean_squared_error: 0.0530\n",
      "Epoch 40/100\n",
      "4/4 [==============================] - 0s 8ms/step - loss: 0.0027 - root_mean_squared_error: 0.0517\n",
      "Epoch 41/100\n",
      "4/4 [==============================] - 0s 8ms/step - loss: 0.0027 - root_mean_squared_error: 0.0515\n",
      "Epoch 42/100\n",
      "4/4 [==============================] - 0s 8ms/step - loss: 0.0026 - root_mean_squared_error: 0.0511\n",
      "Epoch 43/100\n",
      "4/4 [==============================] - 0s 8ms/step - loss: 0.0026 - root_mean_squared_error: 0.0505\n",
      "Epoch 44/100\n",
      "4/4 [==============================] - 0s 8ms/step - loss: 0.0025 - root_mean_squared_error: 0.0503\n",
      "Epoch 45/100\n",
      "4/4 [==============================] - 0s 8ms/step - loss: 0.0025 - root_mean_squared_error: 0.0502\n",
      "Epoch 46/100\n",
      "4/4 [==============================] - 0s 8ms/step - loss: 0.0025 - root_mean_squared_error: 0.0497\n",
      "Epoch 47/100\n",
      "4/4 [==============================] - 0s 7ms/step - loss: 0.0024 - root_mean_squared_error: 0.0494\n",
      "Epoch 48/100\n",
      "4/4 [==============================] - 0s 7ms/step - loss: 0.0024 - root_mean_squared_error: 0.0491\n",
      "Epoch 49/100\n",
      "4/4 [==============================] - 0s 7ms/step - loss: 0.0024 - root_mean_squared_error: 0.0487\n",
      "Epoch 50/100\n",
      "4/4 [==============================] - 0s 8ms/step - loss: 0.0024 - root_mean_squared_error: 0.0486\n",
      "Epoch 51/100\n",
      "4/4 [==============================] - 0s 7ms/step - loss: 0.0023 - root_mean_squared_error: 0.0483\n",
      "Epoch 52/100\n",
      "4/4 [==============================] - 0s 7ms/step - loss: 0.0023 - root_mean_squared_error: 0.0479\n",
      "Epoch 53/100\n",
      "4/4 [==============================] - 0s 6ms/step - loss: 0.0023 - root_mean_squared_error: 0.0476\n",
      "Epoch 54/100\n",
      "4/4 [==============================] - 0s 7ms/step - loss: 0.0022 - root_mean_squared_error: 0.0473\n",
      "Epoch 55/100\n",
      "4/4 [==============================] - 0s 7ms/step - loss: 0.0022 - root_mean_squared_error: 0.0470\n",
      "Epoch 56/100\n",
      "4/4 [==============================] - 0s 6ms/step - loss: 0.0022 - root_mean_squared_error: 0.0468\n",
      "Epoch 57/100\n",
      "4/4 [==============================] - 0s 7ms/step - loss: 0.0022 - root_mean_squared_error: 0.0466\n",
      "Epoch 58/100\n",
      "4/4 [==============================] - 0s 6ms/step - loss: 0.0021 - root_mean_squared_error: 0.0463\n",
      "Epoch 59/100\n",
      "4/4 [==============================] - 0s 7ms/step - loss: 0.0021 - root_mean_squared_error: 0.0461\n",
      "Epoch 60/100\n",
      "4/4 [==============================] - 0s 6ms/step - loss: 0.0021 - root_mean_squared_error: 0.0459\n",
      "Epoch 61/100\n",
      "4/4 [==============================] - 0s 7ms/step - loss: 0.0021 - root_mean_squared_error: 0.0457\n",
      "Epoch 62/100\n",
      "4/4 [==============================] - 0s 7ms/step - loss: 0.0021 - root_mean_squared_error: 0.0455\n",
      "Epoch 63/100\n",
      "4/4 [==============================] - 0s 7ms/step - loss: 0.0021 - root_mean_squared_error: 0.0454\n",
      "Epoch 64/100\n",
      "4/4 [==============================] - 0s 6ms/step - loss: 0.0020 - root_mean_squared_error: 0.0451\n",
      "Epoch 65/100\n",
      "4/4 [==============================] - 0s 7ms/step - loss: 0.0020 - root_mean_squared_error: 0.0449\n",
      "Epoch 66/100\n",
      "4/4 [==============================] - 0s 7ms/step - loss: 0.0020 - root_mean_squared_error: 0.0448\n",
      "Epoch 67/100\n",
      "4/4 [==============================] - 0s 8ms/step - loss: 0.0020 - root_mean_squared_error: 0.0446\n",
      "Epoch 68/100\n",
      "4/4 [==============================] - 0s 8ms/step - loss: 0.0020 - root_mean_squared_error: 0.0445\n",
      "Epoch 69/100\n",
      "4/4 [==============================] - 0s 8ms/step - loss: 0.0020 - root_mean_squared_error: 0.0442\n",
      "Epoch 70/100\n",
      "4/4 [==============================] - 0s 8ms/step - loss: 0.0019 - root_mean_squared_error: 0.0441\n",
      "Epoch 71/100\n",
      "4/4 [==============================] - 0s 8ms/step - loss: 0.0019 - root_mean_squared_error: 0.0438\n",
      "Epoch 72/100\n",
      "4/4 [==============================] - 0s 8ms/step - loss: 0.0019 - root_mean_squared_error: 0.0437\n",
      "Epoch 73/100\n",
      "4/4 [==============================] - 0s 8ms/step - loss: 0.0019 - root_mean_squared_error: 0.0437\n",
      "Epoch 74/100\n",
      "4/4 [==============================] - 0s 7ms/step - loss: 0.0019 - root_mean_squared_error: 0.0433\n",
      "Epoch 75/100\n",
      "4/4 [==============================] - 0s 7ms/step - loss: 0.0019 - root_mean_squared_error: 0.0432\n",
      "Epoch 76/100\n",
      "4/4 [==============================] - 0s 7ms/step - loss: 0.0019 - root_mean_squared_error: 0.0431\n",
      "Epoch 77/100\n",
      "4/4 [==============================] - 0s 6ms/step - loss: 0.0018 - root_mean_squared_error: 0.0428\n",
      "Epoch 78/100\n",
      "4/4 [==============================] - 0s 6ms/step - loss: 0.0018 - root_mean_squared_error: 0.0428\n",
      "Epoch 79/100\n",
      "4/4 [==============================] - 0s 7ms/step - loss: 0.0018 - root_mean_squared_error: 0.0428\n",
      "Epoch 80/100\n",
      "4/4 [==============================] - 0s 7ms/step - loss: 0.0018 - root_mean_squared_error: 0.0426\n",
      "Epoch 81/100\n",
      "4/4 [==============================] - 0s 7ms/step - loss: 0.0018 - root_mean_squared_error: 0.0425\n",
      "Epoch 82/100\n",
      "4/4 [==============================] - 0s 8ms/step - loss: 0.0018 - root_mean_squared_error: 0.0424\n",
      "Epoch 83/100\n",
      "4/4 [==============================] - 0s 7ms/step - loss: 0.0018 - root_mean_squared_error: 0.0423\n",
      "Epoch 84/100\n",
      "4/4 [==============================] - 0s 7ms/step - loss: 0.0018 - root_mean_squared_error: 0.0427\n",
      "Epoch 85/100\n",
      "4/4 [==============================] - 0s 7ms/step - loss: 0.0019 - root_mean_squared_error: 0.0431\n",
      "Epoch 86/100\n",
      "4/4 [==============================] - 0s 6ms/step - loss: 0.0018 - root_mean_squared_error: 0.0429\n",
      "Epoch 87/100\n",
      "4/4 [==============================] - 0s 6ms/step - loss: 0.0018 - root_mean_squared_error: 0.0424\n",
      "Epoch 88/100\n",
      "4/4 [==============================] - 0s 6ms/step - loss: 0.0018 - root_mean_squared_error: 0.0426\n",
      "Epoch 89/100\n",
      "4/4 [==============================] - 0s 6ms/step - loss: 0.0018 - root_mean_squared_error: 0.0419\n",
      "Epoch 90/100\n",
      "4/4 [==============================] - 0s 6ms/step - loss: 0.0017 - root_mean_squared_error: 0.0417\n",
      "Epoch 91/100\n",
      "4/4 [==============================] - 0s 6ms/step - loss: 0.0017 - root_mean_squared_error: 0.0414\n",
      "Epoch 92/100\n",
      "4/4 [==============================] - 0s 6ms/step - loss: 0.0017 - root_mean_squared_error: 0.0411\n",
      "Epoch 93/100\n",
      "4/4 [==============================] - 0s 6ms/step - loss: 0.0017 - root_mean_squared_error: 0.0410\n",
      "Epoch 94/100\n",
      "4/4 [==============================] - 0s 6ms/step - loss: 0.0017 - root_mean_squared_error: 0.0411\n",
      "Epoch 95/100\n",
      "4/4 [==============================] - 0s 6ms/step - loss: 0.0017 - root_mean_squared_error: 0.0409\n",
      "Epoch 96/100\n",
      "4/4 [==============================] - 0s 6ms/step - loss: 0.0017 - root_mean_squared_error: 0.0407\n",
      "Epoch 97/100\n",
      "4/4 [==============================] - 0s 6ms/step - loss: 0.0016 - root_mean_squared_error: 0.0405\n",
      "Epoch 98/100\n",
      "4/4 [==============================] - 0s 6ms/step - loss: 0.0016 - root_mean_squared_error: 0.0404\n",
      "Epoch 99/100\n",
      "4/4 [==============================] - 0s 6ms/step - loss: 0.0016 - root_mean_squared_error: 0.0403\n",
      "Epoch 100/100\n",
      "4/4 [==============================] - 0s 7ms/step - loss: 0.0016 - root_mean_squared_error: 0.0404\n",
      "Epoch 1/100\n"
     ]
    },
    {
     "name": "stderr",
     "output_type": "stream",
     "text": [
      "2022-04-07 16:58:30.087020: I tensorflow/core/grappler/optimizers/custom_graph_optimizer_registry.cc:113] Plugin optimizer for device_type GPU is enabled.\n"
     ]
    },
    {
     "name": "stdout",
     "output_type": "stream",
     "text": [
      "4/4 [==============================] - 0s 13ms/step - loss: 0.0950 - root_mean_squared_error: 0.3083\n",
      "Epoch 2/100\n",
      "4/4 [==============================] - 0s 7ms/step - loss: 0.0550 - root_mean_squared_error: 0.2345\n",
      "Epoch 3/100\n",
      "4/4 [==============================] - 0s 7ms/step - loss: 0.0357 - root_mean_squared_error: 0.1889\n",
      "Epoch 4/100\n",
      "1/4 [======>.......................] - ETA: 0s - loss: 0.0246 - root_mean_squared_error: 0.1570"
     ]
    },
    {
     "name": "stderr",
     "output_type": "stream",
     "text": [
      "2022-04-07 16:58:30.311065: I tensorflow/core/grappler/optimizers/custom_graph_optimizer_registry.cc:113] Plugin optimizer for device_type GPU is enabled.\n"
     ]
    },
    {
     "name": "stdout",
     "output_type": "stream",
     "text": [
      "4/4 [==============================] - 0s 7ms/step - loss: 0.0234 - root_mean_squared_error: 0.1531\n",
      "Epoch 5/100\n",
      "4/4 [==============================] - 0s 7ms/step - loss: 0.0228 - root_mean_squared_error: 0.1509\n",
      "Epoch 6/100\n",
      "4/4 [==============================] - 0s 6ms/step - loss: 0.0178 - root_mean_squared_error: 0.1333\n",
      "Epoch 7/100\n",
      "4/4 [==============================] - 0s 6ms/step - loss: 0.0147 - root_mean_squared_error: 0.1211\n",
      "Epoch 8/100\n",
      "4/4 [==============================] - 0s 6ms/step - loss: 0.0130 - root_mean_squared_error: 0.1140\n",
      "Epoch 9/100\n",
      "4/4 [==============================] - 0s 6ms/step - loss: 0.0114 - root_mean_squared_error: 0.1069\n",
      "Epoch 10/100\n",
      "4/4 [==============================] - 0s 6ms/step - loss: 0.0101 - root_mean_squared_error: 0.1006\n",
      "Epoch 11/100\n",
      "4/4 [==============================] - 0s 6ms/step - loss: 0.0093 - root_mean_squared_error: 0.0964\n",
      "Epoch 12/100\n",
      "4/4 [==============================] - 0s 6ms/step - loss: 0.0084 - root_mean_squared_error: 0.0918\n",
      "Epoch 13/100\n",
      "4/4 [==============================] - 0s 6ms/step - loss: 0.0076 - root_mean_squared_error: 0.0874\n",
      "Epoch 14/100\n",
      "4/4 [==============================] - 0s 6ms/step - loss: 0.0070 - root_mean_squared_error: 0.0837\n",
      "Epoch 15/100\n",
      "4/4 [==============================] - 0s 7ms/step - loss: 0.0065 - root_mean_squared_error: 0.0805\n",
      "Epoch 16/100\n",
      "4/4 [==============================] - 0s 6ms/step - loss: 0.0061 - root_mean_squared_error: 0.0779\n",
      "Epoch 17/100\n",
      "4/4 [==============================] - 0s 6ms/step - loss: 0.0056 - root_mean_squared_error: 0.0751\n",
      "Epoch 18/100\n",
      "4/4 [==============================] - 0s 6ms/step - loss: 0.0053 - root_mean_squared_error: 0.0727\n",
      "Epoch 19/100\n",
      "4/4 [==============================] - 0s 6ms/step - loss: 0.0050 - root_mean_squared_error: 0.0707\n",
      "Epoch 20/100\n",
      "4/4 [==============================] - 0s 6ms/step - loss: 0.0047 - root_mean_squared_error: 0.0684\n",
      "Epoch 21/100\n",
      "4/4 [==============================] - 0s 6ms/step - loss: 0.0045 - root_mean_squared_error: 0.0668\n",
      "Epoch 22/100\n",
      "4/4 [==============================] - 0s 6ms/step - loss: 0.0041 - root_mean_squared_error: 0.0643\n",
      "Epoch 23/100\n",
      "4/4 [==============================] - 0s 6ms/step - loss: 0.0039 - root_mean_squared_error: 0.0627\n",
      "Epoch 24/100\n",
      "4/4 [==============================] - 0s 6ms/step - loss: 0.0038 - root_mean_squared_error: 0.0613\n",
      "Epoch 25/100\n",
      "4/4 [==============================] - 0s 6ms/step - loss: 0.0036 - root_mean_squared_error: 0.0600\n",
      "Epoch 26/100\n",
      "4/4 [==============================] - 0s 6ms/step - loss: 0.0034 - root_mean_squared_error: 0.0585\n",
      "Epoch 27/100\n",
      "4/4 [==============================] - 0s 6ms/step - loss: 0.0033 - root_mean_squared_error: 0.0573\n",
      "Epoch 28/100\n",
      "4/4 [==============================] - 0s 6ms/step - loss: 0.0031 - root_mean_squared_error: 0.0559\n",
      "Epoch 29/100\n",
      "4/4 [==============================] - 0s 6ms/step - loss: 0.0030 - root_mean_squared_error: 0.0550\n",
      "Epoch 30/100\n",
      "4/4 [==============================] - 0s 6ms/step - loss: 0.0029 - root_mean_squared_error: 0.0540\n",
      "Epoch 31/100\n",
      "4/4 [==============================] - 0s 6ms/step - loss: 0.0028 - root_mean_squared_error: 0.0532\n",
      "Epoch 32/100\n",
      "4/4 [==============================] - 0s 7ms/step - loss: 0.0028 - root_mean_squared_error: 0.0525\n",
      "Epoch 33/100\n",
      "4/4 [==============================] - 0s 7ms/step - loss: 0.0027 - root_mean_squared_error: 0.0519\n",
      "Epoch 34/100\n",
      "4/4 [==============================] - 0s 6ms/step - loss: 0.0026 - root_mean_squared_error: 0.0514\n",
      "Epoch 35/100\n",
      "4/4 [==============================] - 0s 6ms/step - loss: 0.0026 - root_mean_squared_error: 0.0507\n",
      "Epoch 36/100\n",
      "4/4 [==============================] - 0s 6ms/step - loss: 0.0025 - root_mean_squared_error: 0.0502\n",
      "Epoch 37/100\n",
      "4/4 [==============================] - 0s 6ms/step - loss: 0.0025 - root_mean_squared_error: 0.0497\n",
      "Epoch 38/100\n",
      "4/4 [==============================] - 0s 6ms/step - loss: 0.0025 - root_mean_squared_error: 0.0495\n",
      "Epoch 39/100\n",
      "4/4 [==============================] - 0s 7ms/step - loss: 0.0024 - root_mean_squared_error: 0.0490\n",
      "Epoch 40/100\n",
      "4/4 [==============================] - 0s 6ms/step - loss: 0.0024 - root_mean_squared_error: 0.0489\n",
      "Epoch 41/100\n",
      "4/4 [==============================] - 0s 6ms/step - loss: 0.0023 - root_mean_squared_error: 0.0484\n",
      "Epoch 42/100\n",
      "4/4 [==============================] - 0s 6ms/step - loss: 0.0023 - root_mean_squared_error: 0.0483\n",
      "Epoch 43/100\n",
      "4/4 [==============================] - 0s 6ms/step - loss: 0.0023 - root_mean_squared_error: 0.0481\n",
      "Epoch 44/100\n",
      "4/4 [==============================] - 0s 6ms/step - loss: 0.0023 - root_mean_squared_error: 0.0475\n",
      "Epoch 45/100\n",
      "4/4 [==============================] - 0s 6ms/step - loss: 0.0022 - root_mean_squared_error: 0.0470\n",
      "Epoch 46/100\n",
      "4/4 [==============================] - 0s 6ms/step - loss: 0.0022 - root_mean_squared_error: 0.0466\n",
      "Epoch 47/100\n",
      "4/4 [==============================] - 0s 6ms/step - loss: 0.0022 - root_mean_squared_error: 0.0464\n",
      "Epoch 48/100\n",
      "4/4 [==============================] - 0s 6ms/step - loss: 0.0021 - root_mean_squared_error: 0.0461\n",
      "Epoch 49/100\n",
      "4/4 [==============================] - 0s 6ms/step - loss: 0.0021 - root_mean_squared_error: 0.0457\n",
      "Epoch 50/100\n",
      "4/4 [==============================] - 0s 6ms/step - loss: 0.0021 - root_mean_squared_error: 0.0454\n",
      "Epoch 51/100\n",
      "4/4 [==============================] - 0s 6ms/step - loss: 0.0020 - root_mean_squared_error: 0.0452\n",
      "Epoch 52/100\n",
      "4/4 [==============================] - 0s 6ms/step - loss: 0.0020 - root_mean_squared_error: 0.0449\n",
      "Epoch 53/100\n",
      "4/4 [==============================] - 0s 6ms/step - loss: 0.0020 - root_mean_squared_error: 0.0446\n",
      "Epoch 54/100\n",
      "4/4 [==============================] - 0s 6ms/step - loss: 0.0020 - root_mean_squared_error: 0.0444\n",
      "Epoch 55/100\n",
      "4/4 [==============================] - 0s 6ms/step - loss: 0.0019 - root_mean_squared_error: 0.0440\n",
      "Epoch 56/100\n",
      "4/4 [==============================] - 0s 6ms/step - loss: 0.0019 - root_mean_squared_error: 0.0439\n",
      "Epoch 57/100\n",
      "4/4 [==============================] - 0s 6ms/step - loss: 0.0019 - root_mean_squared_error: 0.0435\n",
      "Epoch 58/100\n",
      "4/4 [==============================] - 0s 6ms/step - loss: 0.0019 - root_mean_squared_error: 0.0433\n",
      "Epoch 59/100\n",
      "4/4 [==============================] - 0s 6ms/step - loss: 0.0018 - root_mean_squared_error: 0.0430\n",
      "Epoch 60/100\n",
      "4/4 [==============================] - 0s 7ms/step - loss: 0.0018 - root_mean_squared_error: 0.0429\n",
      "Epoch 61/100\n",
      "4/4 [==============================] - 0s 6ms/step - loss: 0.0018 - root_mean_squared_error: 0.0425\n",
      "Epoch 62/100\n",
      "4/4 [==============================] - 0s 6ms/step - loss: 0.0018 - root_mean_squared_error: 0.0423\n",
      "Epoch 63/100\n",
      "4/4 [==============================] - 0s 6ms/step - loss: 0.0018 - root_mean_squared_error: 0.0423\n",
      "Epoch 64/100\n",
      "4/4 [==============================] - 0s 6ms/step - loss: 0.0018 - root_mean_squared_error: 0.0420\n",
      "Epoch 65/100\n",
      "4/4 [==============================] - 0s 6ms/step - loss: 0.0018 - root_mean_squared_error: 0.0419\n",
      "Epoch 66/100\n",
      "4/4 [==============================] - 0s 6ms/step - loss: 0.0018 - root_mean_squared_error: 0.0418\n",
      "Epoch 67/100\n",
      "4/4 [==============================] - 0s 6ms/step - loss: 0.0017 - root_mean_squared_error: 0.0417\n",
      "Epoch 68/100\n",
      "4/4 [==============================] - 0s 6ms/step - loss: 0.0017 - root_mean_squared_error: 0.0414\n",
      "Epoch 69/100\n",
      "4/4 [==============================] - 0s 6ms/step - loss: 0.0017 - root_mean_squared_error: 0.0411\n",
      "Epoch 70/100\n",
      "4/4 [==============================] - 0s 7ms/step - loss: 0.0017 - root_mean_squared_error: 0.0411\n",
      "Epoch 71/100\n",
      "4/4 [==============================] - 0s 6ms/step - loss: 0.0017 - root_mean_squared_error: 0.0410\n",
      "Epoch 72/100\n",
      "4/4 [==============================] - 0s 6ms/step - loss: 0.0017 - root_mean_squared_error: 0.0408\n",
      "Epoch 73/100\n",
      "4/4 [==============================] - 0s 6ms/step - loss: 0.0016 - root_mean_squared_error: 0.0406\n",
      "Epoch 74/100\n",
      "4/4 [==============================] - 0s 6ms/step - loss: 0.0016 - root_mean_squared_error: 0.0404\n",
      "Epoch 75/100\n",
      "4/4 [==============================] - 0s 6ms/step - loss: 0.0016 - root_mean_squared_error: 0.0402\n",
      "Epoch 76/100\n",
      "4/4 [==============================] - 0s 6ms/step - loss: 0.0016 - root_mean_squared_error: 0.0400\n",
      "Epoch 77/100\n",
      "4/4 [==============================] - 0s 6ms/step - loss: 0.0016 - root_mean_squared_error: 0.0399\n",
      "Epoch 78/100\n",
      "4/4 [==============================] - 0s 6ms/step - loss: 0.0016 - root_mean_squared_error: 0.0396\n",
      "Epoch 79/100\n",
      "4/4 [==============================] - 0s 6ms/step - loss: 0.0016 - root_mean_squared_error: 0.0395\n",
      "Epoch 80/100\n",
      "4/4 [==============================] - 0s 6ms/step - loss: 0.0015 - root_mean_squared_error: 0.0393\n",
      "Epoch 81/100\n",
      "4/4 [==============================] - 0s 6ms/step - loss: 0.0015 - root_mean_squared_error: 0.0392\n",
      "Epoch 82/100\n",
      "4/4 [==============================] - 0s 6ms/step - loss: 0.0015 - root_mean_squared_error: 0.0391\n",
      "Epoch 83/100\n",
      "4/4 [==============================] - 0s 6ms/step - loss: 0.0015 - root_mean_squared_error: 0.0389\n",
      "Epoch 84/100\n",
      "4/4 [==============================] - 0s 6ms/step - loss: 0.0015 - root_mean_squared_error: 0.0389\n",
      "Epoch 85/100\n",
      "4/4 [==============================] - 0s 6ms/step - loss: 0.0015 - root_mean_squared_error: 0.0387\n",
      "Epoch 86/100\n",
      "4/4 [==============================] - 0s 6ms/step - loss: 0.0015 - root_mean_squared_error: 0.0387\n",
      "Epoch 87/100\n",
      "4/4 [==============================] - 0s 6ms/step - loss: 0.0015 - root_mean_squared_error: 0.0384\n",
      "Epoch 88/100\n",
      "4/4 [==============================] - 0s 6ms/step - loss: 0.0015 - root_mean_squared_error: 0.0385\n",
      "Epoch 89/100\n",
      "4/4 [==============================] - 0s 6ms/step - loss: 0.0015 - root_mean_squared_error: 0.0382\n",
      "Epoch 90/100\n",
      "4/4 [==============================] - 0s 6ms/step - loss: 0.0014 - root_mean_squared_error: 0.0380\n",
      "Epoch 91/100\n",
      "4/4 [==============================] - 0s 6ms/step - loss: 0.0014 - root_mean_squared_error: 0.0379\n",
      "Epoch 92/100\n",
      "4/4 [==============================] - 0s 6ms/step - loss: 0.0014 - root_mean_squared_error: 0.0378\n",
      "Epoch 93/100\n",
      "4/4 [==============================] - 0s 6ms/step - loss: 0.0014 - root_mean_squared_error: 0.0377\n",
      "Epoch 94/100\n",
      "4/4 [==============================] - 0s 6ms/step - loss: 0.0014 - root_mean_squared_error: 0.0375\n",
      "Epoch 95/100\n",
      "4/4 [==============================] - 0s 6ms/step - loss: 0.0014 - root_mean_squared_error: 0.0374\n",
      "Epoch 96/100\n",
      "4/4 [==============================] - 0s 6ms/step - loss: 0.0014 - root_mean_squared_error: 0.0373\n",
      "Epoch 97/100\n",
      "4/4 [==============================] - 0s 6ms/step - loss: 0.0014 - root_mean_squared_error: 0.0372\n",
      "Epoch 98/100\n",
      "4/4 [==============================] - 0s 6ms/step - loss: 0.0014 - root_mean_squared_error: 0.0372\n",
      "Epoch 99/100\n",
      "4/4 [==============================] - 0s 6ms/step - loss: 0.0014 - root_mean_squared_error: 0.0371\n",
      "Epoch 100/100\n",
      "4/4 [==============================] - 0s 6ms/step - loss: 0.0014 - root_mean_squared_error: 0.0369\n"
     ]
    },
    {
     "name": "stderr",
     "output_type": "stream",
     "text": [
      "2022-04-07 16:58:33.146227: I tensorflow/core/grappler/optimizers/custom_graph_optimizer_registry.cc:113] Plugin optimizer for device_type GPU is enabled.\n"
     ]
    }
   ],
   "source": [
    "cv_scores = cross_val_score(ker,X,Y,scoring='neg_root_mean_squared_error',cv=2)\n"
   ]
  },
  {
   "cell_type": "code",
   "execution_count": 97,
   "id": "b1800d2e",
   "metadata": {},
   "outputs": [
    {
     "data": {
      "text/plain": [
       "-0.04568123631179333"
      ]
     },
     "execution_count": 97,
     "metadata": {},
     "output_type": "execute_result"
    }
   ],
   "source": [
    "cv_scores.mean()"
   ]
  },
  {
   "cell_type": "code",
   "execution_count": null,
   "id": "16085035",
   "metadata": {},
   "outputs": [],
   "source": []
  },
  {
   "cell_type": "code",
   "execution_count": 87,
   "id": "05b667a4",
   "metadata": {},
   "outputs": [],
   "source": [
    "import xarray"
   ]
  },
  {
   "cell_type": "code",
   "execution_count": 98,
   "id": "4b301b1f",
   "metadata": {},
   "outputs": [
    {
     "name": "stderr",
     "output_type": "stream",
     "text": [
      "/Users/felixmeng/miniforge3/lib/python3.9/site-packages/cartopy/crs.py:228: ShapelyDeprecationWarning: __len__ for multi-part geometries is deprecated and will be removed in Shapely 2.0. Check the length of the `geoms` property instead to get the  number of parts of a multi-part geometry.\n",
      "  if len(multi_line_string) > 1:\n",
      "/Users/felixmeng/miniforge3/lib/python3.9/site-packages/cartopy/crs.py:239: ShapelyDeprecationWarning: __len__ for multi-part geometries is deprecated and will be removed in Shapely 2.0. Check the length of the `geoms` property instead to get the  number of parts of a multi-part geometry.\n",
      "  line_strings = list(multi_line_string)\n",
      "/Users/felixmeng/miniforge3/lib/python3.9/site-packages/cartopy/crs.py:239: ShapelyDeprecationWarning: Iteration over multi-part geometries is deprecated and will be removed in Shapely 2.0. Use the `geoms` property to access the constituent parts of a multi-part geometry.\n",
      "  line_strings = list(multi_line_string)\n",
      "/Users/felixmeng/miniforge3/lib/python3.9/site-packages/cartopy/crs.py:280: ShapelyDeprecationWarning: Iteration over multi-part geometries is deprecated and will be removed in Shapely 2.0. Use the `geoms` property to access the constituent parts of a multi-part geometry.\n",
      "  for line in multi_line_string:\n",
      "/Users/felixmeng/miniforge3/lib/python3.9/site-packages/cartopy/crs.py:347: ShapelyDeprecationWarning: __len__ for multi-part geometries is deprecated and will be removed in Shapely 2.0. Check the length of the `geoms` property instead to get the  number of parts of a multi-part geometry.\n",
      "  if len(p_mline) > 0:\n",
      "/Users/felixmeng/miniforge3/lib/python3.9/site-packages/cartopy/crs.py:385: ShapelyDeprecationWarning: Iteration over multi-part geometries is deprecated and will be removed in Shapely 2.0. Use the `geoms` property to access the constituent parts of a multi-part geometry.\n",
      "  line_strings.extend(multi_line_string)\n",
      "/Users/felixmeng/miniforge3/lib/python3.9/site-packages/cartopy/crs.py:385: ShapelyDeprecationWarning: __len__ for multi-part geometries is deprecated and will be removed in Shapely 2.0. Check the length of the `geoms` property instead to get the  number of parts of a multi-part geometry.\n",
      "  line_strings.extend(multi_line_string)\n",
      "/Users/felixmeng/miniforge3/lib/python3.9/site-packages/cartopy/mpl/gridliner.py:549: ShapelyDeprecationWarning: __len__ for multi-part geometries is deprecated and will be removed in Shapely 2.0. Check the length of the `geoms` property instead to get the  number of parts of a multi-part geometry.\n",
      "  elif len(intersection) > 4:\n",
      "/Users/felixmeng/miniforge3/lib/python3.9/site-packages/cartopy/mpl/gridliner.py:556: ShapelyDeprecationWarning: __getitem__ for multi-part geometries is deprecated and will be removed in Shapely 2.0. Use the `geoms` property to access the constituent parts of a multi-part geometry.\n",
      "  xy = np.append(intersection[0], intersection[-1],\n",
      "<__array_function__ internals>:5: ShapelyDeprecationWarning: The array interface is deprecated and will no longer work in Shapely 2.0. Convert the '.coords' to a numpy array instead.\n",
      "/Users/felixmeng/miniforge3/lib/python3.9/site-packages/numpy/lib/function_base.py:4817: ShapelyDeprecationWarning: The array interface is deprecated and will no longer work in Shapely 2.0. Convert the '.coords' to a numpy array instead.\n",
      "  return concatenate((arr, values), axis=axis)\n"
     ]
    },
    {
     "data": {
      "image/png": "[encoded data removed]",
      "text/plain": [
       "<Figure size 1275x600 with 2 Axes>"
      ]
     },
     "metadata": {
      "needs_background": "light"
     },
     "output_type": "display_data"
    },
    {
     "data": {
      "text/plain": [
       "<clif.visualization.contour.plot_lat_lon at 0x2cebb8940>"
      ]
     },
     "execution_count": 98,
     "metadata": {},
     "output_type": "execute_result"
    }
   ],
   "source": [
    "Y = dataset['SWCF']\n",
    "X = dataset['lhs']\n",
    "# import the lat lon contour plotting class\n",
    "import clif\n",
    "import clif.visualization as cviz\n",
    "import matplotlib.pyplot as plt\n",
    "\n",
    "# Now we initialize the contout.plot_lat_lon class with some parameters like the color map and titles\n",
    "sample_plot = cviz.contour.plot_lat_lon(\n",
    "    cmap_name=\"e3sm_default\",\n",
    "    title=\"SWCF\",\n",
    "    rhs_title=r\"$W/m^2$\",\n",
    "    lhs_title=\"Sample E3SMv2 output\",\n",
    ")\n",
    "sample_plot.show(Y.var(axis=0))"
   ]
  },
  {
   "cell_type": "code",
   "execution_count": null,
   "id": "1e1d0d1e",
   "metadata": {},
   "outputs": [],
   "source": []
  },
  {
   "cell_type": "code",
   "execution_count": null,
   "id": "d622381a",
   "metadata": {},
   "outputs": [],
   "source": []
  },
  {
   "cell_type": "markdown",
   "id": "73e1e797",
   "metadata": {},
   "source": [
    "## Bayesian Neural Network"
   ]
  },
  {
   "cell_type": "code",
   "execution_count": 49,
   "id": "93ca7a54",
   "metadata": {},
   "outputs": [],
   "source": [
    "import tensorflow_probability as tfp"
   ]
  },
  {
   "cell_type": "code",
   "execution_count": 50,
   "id": "91f0ff9f",
   "metadata": {},
   "outputs": [],
   "source": [
    "def prior(kernel_size, bias_size, dtype=None):\n",
    "    n = kernel_size + bias_size\n",
    "    prior_model = tf.keras.Sequential(\n",
    "        [\n",
    "            tfp.layers.DistributionLambda(\n",
    "                lambda t: tfp.distributions.MultivariateNormalDiag(\n",
    "                    loc=tf.zeros(n), scale_diag=tf.ones(n)\n",
    "                )\n",
    "            )\n",
    "        ]\n",
    "    )\n",
    "    return prior_model"
   ]
  },
  {
   "cell_type": "code",
   "execution_count": 51,
   "id": "e1a07fbd",
   "metadata": {},
   "outputs": [],
   "source": [
    "def posterior(kernel_size, bias_size, dtype=None):\n",
    "    n = kernel_size + bias_size\n",
    "    posterior_model = tf.keras.Sequential(\n",
    "        [\n",
    "            tfp.layers.VariableLayer(\n",
    "                tfp.layers.MultivariateNormalTriL.params_size(n), dtype=dtype\n",
    "            ),\n",
    "            tfp.layers.MultivariateNormalTriL(n),\n",
    "        ]\n",
    "    )\n",
    "    return posterior_model"
   ]
  },
  {
   "cell_type": "code",
   "execution_count": 54,
   "id": "81ca5c4a",
   "metadata": {},
   "outputs": [],
   "source": [
    "def create_probablistic_bnn_model(train_size):\n",
    "    inputs = create_model_inputs()\n",
    "    features = keras.layers.concatenate(list(inputs.values()))\n",
    "    features = layers.BatchNormalization()(features)\n",
    "\n",
    "    # Create hidden layers with weight uncertainty using the DenseVariational layer.\n",
    "    for units in hidden_units:\n",
    "        features = tfp.layers.DenseVariational(\n",
    "            units=units,\n",
    "            make_prior_fn=prior,\n",
    "            make_posterior_fn=posterior,\n",
    "            kl_weight=1 / train_size,\n",
    "            activation=\"relu\",\n",
    "        )(features)"
   ]
  },
  {
   "cell_type": "code",
   "execution_count": null,
   "id": "e5f30ec1",
   "metadata": {},
   "outputs": [],
   "source": []
  },
  {
   "cell_type": "code",
   "execution_count": null,
   "id": "73a5fd05",
   "metadata": {},
   "outputs": [],
   "source": []
  },
  {
   "cell_type": "markdown",
   "id": "8eabf431",
   "metadata": {},
   "source": [
    "Try batch normalization, nodes per layer\n",
    "Automated way of producing the surrogate\n"
   ]
  },
  {
   "cell_type": "code",
   "execution_count": null,
   "id": "521121df",
   "metadata": {},
   "outputs": [],
   "source": []
  },
  {
   "cell_type": "markdown",
   "id": "6a18514a",
   "metadata": {},
   "source": [
    "List to try:\n",
    "    Some of the elements in the field are just constant, we centered + shifted, center by subtracting the obs\n",
    "    might don't need r^2\n",
    "    Stick with negative root mean squared error\n",
    "    keras tuner\n",
    "    Bootstrap: use the original data too generate more data\n",
    "    Batch Normalization\n",
    "    Full keras model that have pca into it\n",
    "    "
   ]
  },
  {
   "cell_type": "markdown",
   "id": "1bcf5bf0",
   "metadata": {},
   "source": [
    "R^2=0.624"
   ]
  },
  {
   "cell_type": "code",
   "execution_count": null,
   "id": "80061ece",
   "metadata": {},
   "outputs": [],
   "source": []
  }
 ],
 "metadata": {
  "kernelspec": {
   "display_name": "Python 3 (ipykernel)",
   "language": "python",
   "name": "python3"
  },
  "language_info": {
   "codemirror_mode": {
    "name": "ipython",
    "version": 3
   },
   "file_extension": ".py",
   "mimetype": "text/x-python",
   "name": "python",
   "nbconvert_exporter": "python",
   "pygments_lexer": "ipython3",
   "version": "3.9.10"
  }
 },
 "nbformat": 4,
 "nbformat_minor": 5
}
