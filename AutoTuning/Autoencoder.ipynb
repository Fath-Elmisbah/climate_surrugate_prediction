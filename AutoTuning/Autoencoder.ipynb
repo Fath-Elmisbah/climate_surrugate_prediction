{
 "cells": [
  {
   "cell_type": "code",
   "execution_count": 1,
   "id": "b80fd389",
   "metadata": {},
   "outputs": [],
   "source": [
    "import keras_tuner as kt\n",
    "from tensorflow import keras\n",
    "import numpy as np\n",
    "import xarray as xr\n",
    "import dask\n",
    "from keras.layers.normalization.layer_normalization import *\n",
    "from keras.layers.normalization.batch_normalization import *\n",
    "from keras.layers import BatchNormalization\n",
    "import tensorflow_probability as tfp\n",
    "import clif\n",
    "import clif.visualization as cviz\n",
    "import matplotlib.pyplot as plt\n",
    "import tensorflow.keras.backend as kb\n",
    "import tensorflow_addons as tfa\n",
    "from keras.utils.vis_utils import plot_model"
   ]
  },
  {
   "cell_type": "code",
   "execution_count": 13,
   "id": "ad3802f8",
   "metadata": {
    "scrolled": true
   },
   "outputs": [
    {
     "name": "stdout",
     "output_type": "stream",
     "text": [
      "Collecting scikit-neuralnetwork\n",
      "  Downloading scikit-neuralnetwork-0.7.tar.gz (33 kB)\n",
      "Requirement already satisfied: scikit-learn>=0.17 in /home/misbah/anaconda3/envs/proj-env/lib/python3.6/site-packages (from scikit-neuralnetwork) (0.24.2)\n",
      "Collecting Theano>=0.8\n",
      "  Downloading Theano-1.0.5.tar.gz (2.8 MB)\n",
      "\u001b[K     |████████████████████████████████| 2.8 MB 8.9 MB/s eta 0:00:01\n",
      "\u001b[?25hCollecting Lasagne>=0.1\n",
      "  Downloading Lasagne-0.1.tar.gz (125 kB)\n",
      "\u001b[K     |████████████████████████████████| 125 kB 15.3 MB/s eta 0:00:01\n",
      "\u001b[?25hRequirement already satisfied: numpy in /home/misbah/anaconda3/envs/proj-env/lib/python3.6/site-packages (from Lasagne>=0.1->scikit-neuralnetwork) (1.19.5)\n",
      "Requirement already satisfied: joblib>=0.11 in /home/misbah/anaconda3/envs/proj-env/lib/python3.6/site-packages (from scikit-learn>=0.17->scikit-neuralnetwork) (1.1.0)\n",
      "Requirement already satisfied: scipy>=0.19.1 in /home/misbah/anaconda3/envs/proj-env/lib/python3.6/site-packages (from scikit-learn>=0.17->scikit-neuralnetwork) (1.5.4)\n",
      "Requirement already satisfied: threadpoolctl>=2.0.0 in /home/misbah/anaconda3/envs/proj-env/lib/python3.6/site-packages (from scikit-learn>=0.17->scikit-neuralnetwork) (3.1.0)\n",
      "Requirement already satisfied: six>=1.9.0 in /home/misbah/anaconda3/envs/proj-env/lib/python3.6/site-packages (from Theano>=0.8->scikit-neuralnetwork) (1.15.0)\n",
      "Building wheels for collected packages: scikit-neuralnetwork, Lasagne, Theano\n",
      "  Building wheel for scikit-neuralnetwork (setup.py) ... \u001b[?25ldone\n",
      "\u001b[?25h  Created wheel for scikit-neuralnetwork: filename=scikit_neuralnetwork-0.7-py3-none-any.whl size=41698 sha256=5fdab674fc12e85b4416716f10bc99ec8f8771f210af5ae3815b0acfd5158d01\n",
      "  Stored in directory: /home/misbah/.cache/pip/wheels/32/68/e9/8d101abd9783af57c4fc7d0f757551f1e8c78ee1d522417cfd\n",
      "  Building wheel for Lasagne (setup.py) ... \u001b[?25ldone\n",
      "\u001b[?25h  Created wheel for Lasagne: filename=Lasagne-0.1-py3-none-any.whl size=79283 sha256=4e4c2e994233cb6358170d565c159e8eb75fbe8b5b422a84f44e289db1cf9b63\n",
      "  Stored in directory: /home/misbah/.cache/pip/wheels/b9/77/1a/ea5fb64846a17e27d33c290668ea73be7038d7ce643d3882c0\n",
      "  Building wheel for Theano (setup.py) ... \u001b[?25ldone\n",
      "\u001b[?25h  Created wheel for Theano: filename=Theano-1.0.5-py3-none-any.whl size=2668111 sha256=d2adb9136fffb60790902983f3abc4cac0b40bee4b1cd0c5f67bc5acc77debda\n",
      "  Stored in directory: /home/misbah/.cache/pip/wheels/7f/80/57/2970ddd2e4961d84fb0d58196f4965deead046d29e08693e73\n",
      "Successfully built scikit-neuralnetwork Lasagne Theano\n",
      "Installing collected packages: Theano, Lasagne, scikit-neuralnetwork\n",
      "Successfully installed Lasagne-0.1 Theano-1.0.5 scikit-neuralnetwork-0.7\n"
     ]
    }
   ],
   "source": [
    "!pip install scikit-neuralnetwork"
   ]
  },
  {
   "cell_type": "code",
   "execution_count": 2,
   "id": "af6663d5",
   "metadata": {
    "scrolled": true
   },
   "outputs": [
    {
     "name": "stdout",
     "output_type": "stream",
     "text": [
      "/home/misbah/Desktop/CS 229/Project/icme-xplore-bayes-spring22/src/data\n"
     ]
    }
   ],
   "source": [
    "cd ../../../src/data"
   ]
  },
  {
   "cell_type": "code",
   "execution_count": 3,
   "id": "59eac873",
   "metadata": {},
   "outputs": [],
   "source": [
    "rm -rf trials"
   ]
  },
  {
   "cell_type": "code",
   "execution_count": 4,
   "id": "b5d9d18f",
   "metadata": {},
   "outputs": [],
   "source": [
    "# open the data set and load it via chunks (dask) for efficient handling (optional)\n",
    "season = 'DJF' # season\n",
    "dataset = xr.open_mfdataset(f\"../data/lat_lon_10yr_24x48_{season}.nc\", chunks={'n': 1})\n",
    "Y = dataset['SWCF']\n",
    "X = dataset['lhs']\n",
    "X_bnds = dataset['lhs_bnds']"
   ]
  },
  {
   "cell_type": "code",
   "execution_count": 5,
   "id": "0dcdc328",
   "metadata": {},
   "outputs": [],
   "source": [
    "# Load the observation or reference data\n",
    "dataset_obs = xr.open_mfdataset(f\"../data/lat_lon_24x48_{season}_obs.nc\", chunks=1)\n",
    "Y_obs = dataset_obs['SWCF']\n",
    "Y_scalar=Y_obs.values.var()\n",
    "Y_shift=Y_obs.values.mean()\n",
    "Y_np = (Y.values-Y_obs.values)/np.sqrt(Y_scalar)\n",
    "#Y_np = np.array([Yi.flatten() for Yi in Y_np])"
   ]
  },
  {
   "cell_type": "code",
   "execution_count": 6,
   "id": "e59be699",
   "metadata": {},
   "outputs": [
    {
     "name": "stdout",
     "output_type": "stream",
     "text": [
      "names of the feature coordinates:\n",
      " ['ice_sed_ai' 'clubb_c1' 'clubb_gamma_coef' 'zmconv_tau' 'zmconv_dmpdz']\n",
      "List of upper and lower bounds:\n",
      " [array([ 350., 1400.]), array([1., 5.]), array([0.1, 0.5]), array([ 1800., 14400.]), array([-0.002 , -0.0001])]\n",
      "Range of scaled features:(-1.000,0.998)\n"
     ]
    }
   ],
   "source": [
    "X_np = X.values\n",
    "feature_coords = dataset['x'].values\n",
    "print(\"names of the feature coordinates:\\n\",feature_coords)\n",
    "\n",
    "feature_bounds = dataset['lhs_bnds'].values\n",
    "print(\"List of upper and lower bounds:\\n\", list(feature_bounds))\n",
    "\n",
    "from tesuract.preprocessing import DomainScaler\n",
    "feature_transform = DomainScaler(\n",
    "                dim=X_np.shape[1],\n",
    "                input_range=list(feature_bounds),\n",
    "                output_range=(-1,1),\n",
    "                )\n",
    "X_s = feature_transform.fit_transform(X_np)\n",
    "print(\"Range of scaled features:({0:.3f},{1:.3f})\".format(X_s.min(), X_s.max()))"
   ]
  },
  {
   "cell_type": "code",
   "execution_count": 7,
   "id": "a56c4f62",
   "metadata": {},
   "outputs": [],
   "source": [
    "index=np.random.choice(250,50)\n",
    "X_test=X_s[index]\n",
    "Y_test=Y_np[index]\n",
    "Index_x_bool=np.array([True]*250)\n",
    "Index_x_bool[index]=False\n",
    "X_train=X_s[Index_x_bool]\n",
    "Y_train=Y_np[Index_x_bool]"
   ]
  },
  {
   "cell_type": "code",
   "execution_count": 8,
   "id": "1d6e1635",
   "metadata": {},
   "outputs": [
    {
     "data": {
      "text/plain": [
       "(205, 24, 48)"
      ]
     },
     "execution_count": 8,
     "metadata": {},
     "output_type": "execute_result"
    }
   ],
   "source": [
    "Y_train.shape"
   ]
  },
  {
   "cell_type": "code",
   "execution_count": 30,
   "id": "23cd7d8a",
   "metadata": {
    "scrolled": true
   },
   "outputs": [
    {
     "name": "stdout",
     "output_type": "stream",
     "text": [
      "Epoch 1/200\n",
      "7/7 [==============================] - 0s 12ms/step - loss: 0.2255 - val_loss: 0.1998\n",
      "Epoch 2/200\n",
      "7/7 [==============================] - 0s 4ms/step - loss: 0.1657 - val_loss: 0.1085\n",
      "Epoch 3/200\n",
      "7/7 [==============================] - 0s 4ms/step - loss: 0.0820 - val_loss: 0.0525\n",
      "Epoch 4/200\n",
      "7/7 [==============================] - 0s 4ms/step - loss: 0.0490 - val_loss: 0.0417\n",
      "Epoch 5/200\n",
      "7/7 [==============================] - 0s 3ms/step - loss: 0.0426 - val_loss: 0.0389\n",
      "Epoch 6/200\n",
      "7/7 [==============================] - 0s 4ms/step - loss: 0.0399 - val_loss: 0.0368\n",
      "Epoch 7/200\n",
      "7/7 [==============================] - 0s 4ms/step - loss: 0.0377 - val_loss: 0.0347\n",
      "Epoch 8/200\n",
      "7/7 [==============================] - 0s 4ms/step - loss: 0.0353 - val_loss: 0.0324\n",
      "Epoch 9/200\n",
      "7/7 [==============================] - 0s 3ms/step - loss: 0.0328 - val_loss: 0.0301\n",
      "Epoch 10/200\n",
      "7/7 [==============================] - 0s 4ms/step - loss: 0.0303 - val_loss: 0.0281\n",
      "Epoch 11/200\n",
      "7/7 [==============================] - 0s 3ms/step - loss: 0.0286 - val_loss: 0.0269\n",
      "Epoch 12/200\n",
      "7/7 [==============================] - 0s 7ms/step - loss: 0.0275 - val_loss: 0.0260\n",
      "Epoch 13/200\n",
      "7/7 [==============================] - 0s 3ms/step - loss: 0.0266 - val_loss: 0.0253\n",
      "Epoch 14/200\n",
      "7/7 [==============================] - 0s 3ms/step - loss: 0.0259 - val_loss: 0.0247\n",
      "Epoch 15/200\n",
      "7/7 [==============================] - 0s 4ms/step - loss: 0.0252 - val_loss: 0.0241\n",
      "Epoch 16/200\n",
      "7/7 [==============================] - 0s 3ms/step - loss: 0.0246 - val_loss: 0.0235\n",
      "Epoch 17/200\n",
      "7/7 [==============================] - 0s 3ms/step - loss: 0.0241 - val_loss: 0.0231\n",
      "Epoch 18/200\n",
      "7/7 [==============================] - 0s 3ms/step - loss: 0.0236 - val_loss: 0.0227\n",
      "Epoch 19/200\n",
      "7/7 [==============================] - 0s 4ms/step - loss: 0.0231 - val_loss: 0.0221\n",
      "Epoch 20/200\n",
      "7/7 [==============================] - 0s 3ms/step - loss: 0.0226 - val_loss: 0.0216\n",
      "Epoch 21/200\n",
      "7/7 [==============================] - 0s 3ms/step - loss: 0.0220 - val_loss: 0.0211\n",
      "Epoch 22/200\n",
      "7/7 [==============================] - 0s 4ms/step - loss: 0.0216 - val_loss: 0.0207\n",
      "Epoch 23/200\n",
      "7/7 [==============================] - 0s 3ms/step - loss: 0.0213 - val_loss: 0.0204\n",
      "Epoch 24/200\n",
      "7/7 [==============================] - 0s 4ms/step - loss: 0.0210 - val_loss: 0.0202\n",
      "Epoch 25/200\n",
      "7/7 [==============================] - 0s 3ms/step - loss: 0.0207 - val_loss: 0.0200\n",
      "Epoch 26/200\n",
      "7/7 [==============================] - 0s 3ms/step - loss: 0.0205 - val_loss: 0.0197\n",
      "Epoch 27/200\n",
      "7/7 [==============================] - 0s 4ms/step - loss: 0.0203 - val_loss: 0.0196\n",
      "Epoch 28/200\n",
      "7/7 [==============================] - 0s 4ms/step - loss: 0.0202 - val_loss: 0.0195\n",
      "Epoch 29/200\n",
      "7/7 [==============================] - 0s 3ms/step - loss: 0.0201 - val_loss: 0.0194\n",
      "Epoch 30/200\n",
      "7/7 [==============================] - 0s 3ms/step - loss: 0.0200 - val_loss: 0.0193\n",
      "Epoch 31/200\n",
      "7/7 [==============================] - 0s 4ms/step - loss: 0.0199 - val_loss: 0.0193\n",
      "Epoch 32/200\n",
      "7/7 [==============================] - 0s 4ms/step - loss: 0.0199 - val_loss: 0.0193\n",
      "Epoch 33/200\n",
      "7/7 [==============================] - 0s 4ms/step - loss: 0.0198 - val_loss: 0.0192\n",
      "Epoch 34/200\n",
      "7/7 [==============================] - 0s 4ms/step - loss: 0.0198 - val_loss: 0.0192\n",
      "Epoch 35/200\n",
      "7/7 [==============================] - 0s 3ms/step - loss: 0.0197 - val_loss: 0.0191\n",
      "Epoch 36/200\n",
      "7/7 [==============================] - 0s 3ms/step - loss: 0.0197 - val_loss: 0.0191\n",
      "Epoch 37/200\n",
      "7/7 [==============================] - 0s 3ms/step - loss: 0.0196 - val_loss: 0.0190\n",
      "Epoch 38/200\n",
      "7/7 [==============================] - 0s 4ms/step - loss: 0.0196 - val_loss: 0.0190\n",
      "Epoch 39/200\n",
      "7/7 [==============================] - 0s 4ms/step - loss: 0.0196 - val_loss: 0.0190\n",
      "Epoch 40/200\n",
      "7/7 [==============================] - 0s 4ms/step - loss: 0.0195 - val_loss: 0.0190\n",
      "Epoch 41/200\n",
      "7/7 [==============================] - 0s 4ms/step - loss: 0.0195 - val_loss: 0.0190\n",
      "Epoch 42/200\n",
      "7/7 [==============================] - 0s 4ms/step - loss: 0.0195 - val_loss: 0.0190\n",
      "Epoch 43/200\n",
      "7/7 [==============================] - 0s 4ms/step - loss: 0.0195 - val_loss: 0.0190\n",
      "Epoch 44/200\n",
      "7/7 [==============================] - 0s 3ms/step - loss: 0.0194 - val_loss: 0.0189\n",
      "Epoch 45/200\n",
      "7/7 [==============================] - 0s 4ms/step - loss: 0.0194 - val_loss: 0.0189\n",
      "Epoch 46/200\n",
      "7/7 [==============================] - 0s 3ms/step - loss: 0.0194 - val_loss: 0.0189\n",
      "Epoch 47/200\n",
      "7/7 [==============================] - 0s 4ms/step - loss: 0.0194 - val_loss: 0.0189\n",
      "Epoch 48/200\n",
      "7/7 [==============================] - 0s 4ms/step - loss: 0.0194 - val_loss: 0.0189\n",
      "Epoch 49/200\n",
      "7/7 [==============================] - 0s 3ms/step - loss: 0.0194 - val_loss: 0.0189\n",
      "Epoch 50/200\n",
      "7/7 [==============================] - 0s 4ms/step - loss: 0.0194 - val_loss: 0.0189\n",
      "Epoch 51/200\n",
      "7/7 [==============================] - 0s 3ms/step - loss: 0.0193 - val_loss: 0.0189\n",
      "Epoch 52/200\n",
      "7/7 [==============================] - 0s 4ms/step - loss: 0.0193 - val_loss: 0.0189\n",
      "Epoch 53/200\n",
      "7/7 [==============================] - 0s 4ms/step - loss: 0.0193 - val_loss: 0.0189\n",
      "Epoch 54/200\n",
      "7/7 [==============================] - 0s 4ms/step - loss: 0.0193 - val_loss: 0.0188\n",
      "Epoch 55/200\n",
      "7/7 [==============================] - 0s 3ms/step - loss: 0.0193 - val_loss: 0.0188\n",
      "Epoch 56/200\n",
      "7/7 [==============================] - 0s 3ms/step - loss: 0.0193 - val_loss: 0.0188\n",
      "Epoch 57/200\n",
      "7/7 [==============================] - 0s 4ms/step - loss: 0.0193 - val_loss: 0.0188\n",
      "Epoch 58/200\n",
      "7/7 [==============================] - 0s 3ms/step - loss: 0.0193 - val_loss: 0.0188\n",
      "Epoch 59/200\n",
      "7/7 [==============================] - 0s 4ms/step - loss: 0.0193 - val_loss: 0.0188\n",
      "Epoch 60/200\n",
      "7/7 [==============================] - 0s 3ms/step - loss: 0.0193 - val_loss: 0.0188\n",
      "Epoch 61/200\n",
      "7/7 [==============================] - 0s 3ms/step - loss: 0.0192 - val_loss: 0.0188\n",
      "Epoch 62/200\n",
      "7/7 [==============================] - 0s 3ms/step - loss: 0.0192 - val_loss: 0.0188\n",
      "Epoch 63/200\n",
      "7/7 [==============================] - 0s 4ms/step - loss: 0.0192 - val_loss: 0.0188\n",
      "Epoch 64/200\n",
      "7/7 [==============================] - 0s 3ms/step - loss: 0.0192 - val_loss: 0.0188\n",
      "Epoch 65/200\n",
      "7/7 [==============================] - 0s 3ms/step - loss: 0.0192 - val_loss: 0.0188\n",
      "Epoch 66/200\n",
      "7/7 [==============================] - 0s 3ms/step - loss: 0.0192 - val_loss: 0.0188\n",
      "Epoch 67/200\n",
      "7/7 [==============================] - 0s 4ms/step - loss: 0.0192 - val_loss: 0.0188\n",
      "Epoch 68/200\n",
      "7/7 [==============================] - 0s 3ms/step - loss: 0.0192 - val_loss: 0.0188\n",
      "Epoch 69/200\n",
      "7/7 [==============================] - 0s 3ms/step - loss: 0.0192 - val_loss: 0.0187\n",
      "Epoch 70/200\n",
      "7/7 [==============================] - 0s 3ms/step - loss: 0.0192 - val_loss: 0.0188\n",
      "Epoch 71/200\n",
      "7/7 [==============================] - 0s 4ms/step - loss: 0.0192 - val_loss: 0.0187\n",
      "Epoch 72/200\n",
      "7/7 [==============================] - 0s 4ms/step - loss: 0.0192 - val_loss: 0.0187\n",
      "Epoch 73/200\n",
      "7/7 [==============================] - 0s 3ms/step - loss: 0.0192 - val_loss: 0.0187\n",
      "Epoch 74/200\n",
      "7/7 [==============================] - 0s 3ms/step - loss: 0.0191 - val_loss: 0.0187\n",
      "Epoch 75/200\n",
      "7/7 [==============================] - 0s 3ms/step - loss: 0.0191 - val_loss: 0.0187\n",
      "Epoch 76/200\n",
      "7/7 [==============================] - 0s 4ms/step - loss: 0.0191 - val_loss: 0.0187\n",
      "Epoch 77/200\n",
      "7/7 [==============================] - 0s 3ms/step - loss: 0.0191 - val_loss: 0.0187\n",
      "Epoch 78/200\n",
      "7/7 [==============================] - 0s 3ms/step - loss: 0.0191 - val_loss: 0.0187\n",
      "Epoch 79/200\n",
      "7/7 [==============================] - 0s 4ms/step - loss: 0.0191 - val_loss: 0.0187\n",
      "Epoch 80/200\n",
      "7/7 [==============================] - 0s 4ms/step - loss: 0.0191 - val_loss: 0.0187\n",
      "Epoch 81/200\n",
      "7/7 [==============================] - 0s 3ms/step - loss: 0.0191 - val_loss: 0.0187\n",
      "Epoch 82/200\n",
      "7/7 [==============================] - 0s 3ms/step - loss: 0.0190 - val_loss: 0.0187\n",
      "Epoch 83/200\n",
      "7/7 [==============================] - 0s 4ms/step - loss: 0.0190 - val_loss: 0.0186\n",
      "Epoch 84/200\n"
     ]
    },
    {
     "name": "stdout",
     "output_type": "stream",
     "text": [
      "7/7 [==============================] - 0s 4ms/step - loss: 0.0190 - val_loss: 0.0186\n",
      "Epoch 85/200\n",
      "7/7 [==============================] - 0s 3ms/step - loss: 0.0190 - val_loss: 0.0186\n",
      "Epoch 86/200\n",
      "7/7 [==============================] - 0s 3ms/step - loss: 0.0190 - val_loss: 0.0186\n",
      "Epoch 87/200\n",
      "7/7 [==============================] - 0s 4ms/step - loss: 0.0190 - val_loss: 0.0186\n",
      "Epoch 88/200\n",
      "7/7 [==============================] - 0s 4ms/step - loss: 0.0189 - val_loss: 0.0186\n",
      "Epoch 89/200\n",
      "7/7 [==============================] - 0s 3ms/step - loss: 0.0189 - val_loss: 0.0185\n",
      "Epoch 90/200\n",
      "7/7 [==============================] - 0s 4ms/step - loss: 0.0189 - val_loss: 0.0185\n",
      "Epoch 91/200\n",
      "7/7 [==============================] - 0s 4ms/step - loss: 0.0189 - val_loss: 0.0185\n",
      "Epoch 92/200\n",
      "7/7 [==============================] - 0s 4ms/step - loss: 0.0188 - val_loss: 0.0185\n",
      "Epoch 93/200\n",
      "7/7 [==============================] - 0s 4ms/step - loss: 0.0188 - val_loss: 0.0185\n",
      "Epoch 94/200\n",
      "7/7 [==============================] - 0s 4ms/step - loss: 0.0188 - val_loss: 0.0185\n",
      "Epoch 95/200\n",
      "7/7 [==============================] - 0s 4ms/step - loss: 0.0188 - val_loss: 0.0184\n",
      "Epoch 96/200\n",
      "7/7 [==============================] - 0s 4ms/step - loss: 0.0188 - val_loss: 0.0184\n",
      "Epoch 97/200\n",
      "7/7 [==============================] - 0s 4ms/step - loss: 0.0188 - val_loss: 0.0184\n",
      "Epoch 98/200\n",
      "7/7 [==============================] - 0s 4ms/step - loss: 0.0187 - val_loss: 0.0184\n",
      "Epoch 99/200\n",
      "7/7 [==============================] - 0s 4ms/step - loss: 0.0187 - val_loss: 0.0184\n",
      "Epoch 100/200\n",
      "7/7 [==============================] - 0s 4ms/step - loss: 0.0187 - val_loss: 0.0184\n",
      "Epoch 101/200\n",
      "7/7 [==============================] - 0s 4ms/step - loss: 0.0187 - val_loss: 0.0184\n",
      "Epoch 102/200\n",
      "7/7 [==============================] - 0s 4ms/step - loss: 0.0187 - val_loss: 0.0184\n",
      "Epoch 103/200\n",
      "7/7 [==============================] - 0s 4ms/step - loss: 0.0187 - val_loss: 0.0184\n",
      "Epoch 104/200\n",
      "7/7 [==============================] - 0s 4ms/step - loss: 0.0187 - val_loss: 0.0184\n",
      "Epoch 105/200\n",
      "7/7 [==============================] - 0s 3ms/step - loss: 0.0187 - val_loss: 0.0184\n",
      "Epoch 106/200\n",
      "7/7 [==============================] - 0s 4ms/step - loss: 0.0187 - val_loss: 0.0184\n",
      "Epoch 107/200\n",
      "7/7 [==============================] - 0s 3ms/step - loss: 0.0187 - val_loss: 0.0184\n",
      "Epoch 108/200\n",
      "7/7 [==============================] - 0s 4ms/step - loss: 0.0186 - val_loss: 0.0184\n",
      "Epoch 109/200\n",
      "7/7 [==============================] - 0s 4ms/step - loss: 0.0186 - val_loss: 0.0183\n",
      "Epoch 110/200\n",
      "7/7 [==============================] - 0s 3ms/step - loss: 0.0186 - val_loss: 0.0184\n",
      "Epoch 111/200\n",
      "7/7 [==============================] - 0s 3ms/step - loss: 0.0186 - val_loss: 0.0183\n",
      "Epoch 112/200\n",
      "7/7 [==============================] - 0s 3ms/step - loss: 0.0186 - val_loss: 0.0184\n",
      "Epoch 113/200\n",
      "7/7 [==============================] - 0s 4ms/step - loss: 0.0186 - val_loss: 0.0183\n",
      "Epoch 114/200\n",
      "7/7 [==============================] - 0s 4ms/step - loss: 0.0186 - val_loss: 0.0183\n",
      "Epoch 115/200\n",
      "7/7 [==============================] - 0s 3ms/step - loss: 0.0186 - val_loss: 0.0183\n",
      "Epoch 116/200\n",
      "7/7 [==============================] - 0s 4ms/step - loss: 0.0186 - val_loss: 0.0183\n",
      "Epoch 117/200\n",
      "7/7 [==============================] - 0s 3ms/step - loss: 0.0186 - val_loss: 0.0183\n",
      "Epoch 118/200\n",
      "7/7 [==============================] - 0s 4ms/step - loss: 0.0186 - val_loss: 0.0183\n",
      "Epoch 119/200\n",
      "7/7 [==============================] - 0s 3ms/step - loss: 0.0186 - val_loss: 0.0183\n",
      "Epoch 120/200\n",
      "7/7 [==============================] - 0s 4ms/step - loss: 0.0186 - val_loss: 0.0183\n",
      "Epoch 121/200\n",
      "7/7 [==============================] - 0s 4ms/step - loss: 0.0186 - val_loss: 0.0183\n",
      "Epoch 122/200\n",
      "7/7 [==============================] - 0s 4ms/step - loss: 0.0186 - val_loss: 0.0183\n",
      "Epoch 123/200\n",
      "7/7 [==============================] - 0s 3ms/step - loss: 0.0186 - val_loss: 0.0183\n",
      "Epoch 124/200\n",
      "7/7 [==============================] - 0s 4ms/step - loss: 0.0186 - val_loss: 0.0183\n",
      "Epoch 125/200\n",
      "7/7 [==============================] - 0s 3ms/step - loss: 0.0186 - val_loss: 0.0183\n",
      "Epoch 126/200\n",
      "7/7 [==============================] - 0s 4ms/step - loss: 0.0186 - val_loss: 0.0183\n",
      "Epoch 127/200\n",
      "7/7 [==============================] - 0s 3ms/step - loss: 0.0186 - val_loss: 0.0183\n",
      "Epoch 128/200\n",
      "7/7 [==============================] - 0s 4ms/step - loss: 0.0186 - val_loss: 0.0183\n",
      "Epoch 129/200\n",
      "7/7 [==============================] - 0s 4ms/step - loss: 0.0186 - val_loss: 0.0183\n",
      "Epoch 130/200\n",
      "7/7 [==============================] - 0s 3ms/step - loss: 0.0186 - val_loss: 0.0183\n",
      "Epoch 131/200\n",
      "7/7 [==============================] - 0s 4ms/step - loss: 0.0186 - val_loss: 0.0183\n",
      "Epoch 132/200\n",
      "7/7 [==============================] - 0s 3ms/step - loss: 0.0186 - val_loss: 0.0183\n",
      "Epoch 133/200\n",
      "7/7 [==============================] - 0s 4ms/step - loss: 0.0186 - val_loss: 0.0183\n",
      "Epoch 134/200\n",
      "7/7 [==============================] - 0s 4ms/step - loss: 0.0185 - val_loss: 0.0183\n",
      "Epoch 135/200\n",
      "7/7 [==============================] - 0s 3ms/step - loss: 0.0185 - val_loss: 0.0183\n",
      "Epoch 136/200\n",
      "7/7 [==============================] - 0s 3ms/step - loss: 0.0185 - val_loss: 0.0183\n",
      "Epoch 137/200\n",
      "7/7 [==============================] - 0s 3ms/step - loss: 0.0186 - val_loss: 0.0183\n",
      "Epoch 138/200\n",
      "7/7 [==============================] - 0s 4ms/step - loss: 0.0186 - val_loss: 0.0183\n",
      "Epoch 139/200\n",
      "7/7 [==============================] - 0s 3ms/step - loss: 0.0185 - val_loss: 0.0183\n",
      "Epoch 140/200\n",
      "7/7 [==============================] - 0s 3ms/step - loss: 0.0185 - val_loss: 0.0183\n",
      "Epoch 141/200\n",
      "7/7 [==============================] - 0s 4ms/step - loss: 0.0185 - val_loss: 0.0183\n",
      "Epoch 142/200\n",
      "7/7 [==============================] - 0s 4ms/step - loss: 0.0185 - val_loss: 0.0183\n",
      "Epoch 143/200\n",
      "7/7 [==============================] - 0s 4ms/step - loss: 0.0185 - val_loss: 0.0183\n",
      "Epoch 144/200\n",
      "7/7 [==============================] - 0s 4ms/step - loss: 0.0185 - val_loss: 0.0183\n",
      "Epoch 145/200\n",
      "7/7 [==============================] - 0s 3ms/step - loss: 0.0185 - val_loss: 0.0183\n",
      "Epoch 146/200\n",
      "7/7 [==============================] - 0s 4ms/step - loss: 0.0185 - val_loss: 0.0183\n",
      "Epoch 147/200\n",
      "7/7 [==============================] - 0s 4ms/step - loss: 0.0185 - val_loss: 0.0183\n",
      "Epoch 148/200\n",
      "7/7 [==============================] - 0s 4ms/step - loss: 0.0185 - val_loss: 0.0183\n",
      "Epoch 149/200\n",
      "7/7 [==============================] - 0s 3ms/step - loss: 0.0185 - val_loss: 0.0183\n",
      "Epoch 150/200\n",
      "7/7 [==============================] - 0s 4ms/step - loss: 0.0185 - val_loss: 0.0183\n",
      "Epoch 151/200\n",
      "7/7 [==============================] - 0s 4ms/step - loss: 0.0185 - val_loss: 0.0183\n",
      "Epoch 152/200\n",
      "7/7 [==============================] - 0s 4ms/step - loss: 0.0185 - val_loss: 0.0183\n",
      "Epoch 153/200\n",
      "7/7 [==============================] - 0s 3ms/step - loss: 0.0185 - val_loss: 0.0182\n",
      "Epoch 154/200\n",
      "7/7 [==============================] - 0s 4ms/step - loss: 0.0185 - val_loss: 0.0182\n",
      "Epoch 155/200\n",
      "7/7 [==============================] - 0s 3ms/step - loss: 0.0185 - val_loss: 0.0182\n",
      "Epoch 156/200\n",
      "7/7 [==============================] - 0s 3ms/step - loss: 0.0185 - val_loss: 0.0182\n",
      "Epoch 157/200\n",
      "7/7 [==============================] - 0s 4ms/step - loss: 0.0185 - val_loss: 0.0182\n",
      "Epoch 158/200\n",
      "7/7 [==============================] - 0s 3ms/step - loss: 0.0185 - val_loss: 0.0183\n",
      "Epoch 159/200\n",
      "7/7 [==============================] - 0s 4ms/step - loss: 0.0185 - val_loss: 0.0182\n",
      "Epoch 160/200\n",
      "7/7 [==============================] - 0s 3ms/step - loss: 0.0185 - val_loss: 0.0182\n",
      "Epoch 161/200\n",
      "7/7 [==============================] - 0s 3ms/step - loss: 0.0185 - val_loss: 0.0182\n",
      "Epoch 162/200\n",
      "7/7 [==============================] - 0s 4ms/step - loss: 0.0185 - val_loss: 0.0182\n",
      "Epoch 163/200\n",
      "7/7 [==============================] - 0s 4ms/step - loss: 0.0185 - val_loss: 0.0182\n",
      "Epoch 164/200\n",
      "7/7 [==============================] - 0s 3ms/step - loss: 0.0185 - val_loss: 0.0182\n",
      "Epoch 165/200\n",
      "7/7 [==============================] - 0s 3ms/step - loss: 0.0185 - val_loss: 0.0182\n",
      "Epoch 166/200\n",
      "7/7 [==============================] - 0s 4ms/step - loss: 0.0185 - val_loss: 0.0182\n",
      "Epoch 167/200\n"
     ]
    },
    {
     "name": "stdout",
     "output_type": "stream",
     "text": [
      "7/7 [==============================] - 0s 4ms/step - loss: 0.0185 - val_loss: 0.0182\n",
      "Epoch 168/200\n",
      "7/7 [==============================] - 0s 4ms/step - loss: 0.0185 - val_loss: 0.0182\n",
      "Epoch 169/200\n",
      "7/7 [==============================] - 0s 3ms/step - loss: 0.0185 - val_loss: 0.0182\n",
      "Epoch 170/200\n",
      "7/7 [==============================] - 0s 4ms/step - loss: 0.0185 - val_loss: 0.0182\n",
      "Epoch 171/200\n",
      "7/7 [==============================] - 0s 4ms/step - loss: 0.0185 - val_loss: 0.0182\n",
      "Epoch 172/200\n",
      "7/7 [==============================] - 0s 4ms/step - loss: 0.0185 - val_loss: 0.0182\n",
      "Epoch 173/200\n",
      "7/7 [==============================] - 0s 3ms/step - loss: 0.0185 - val_loss: 0.0182\n",
      "Epoch 174/200\n",
      "7/7 [==============================] - 0s 4ms/step - loss: 0.0185 - val_loss: 0.0182\n",
      "Epoch 175/200\n",
      "7/7 [==============================] - 0s 3ms/step - loss: 0.0185 - val_loss: 0.0182\n",
      "Epoch 176/200\n",
      "7/7 [==============================] - 0s 4ms/step - loss: 0.0185 - val_loss: 0.0182\n",
      "Epoch 177/200\n",
      "7/7 [==============================] - 0s 3ms/step - loss: 0.0185 - val_loss: 0.0182\n",
      "Epoch 178/200\n",
      "7/7 [==============================] - 0s 3ms/step - loss: 0.0185 - val_loss: 0.0182\n",
      "Epoch 179/200\n",
      "7/7 [==============================] - 0s 3ms/step - loss: 0.0185 - val_loss: 0.0182\n",
      "Epoch 180/200\n",
      "7/7 [==============================] - 0s 4ms/step - loss: 0.0185 - val_loss: 0.0182\n",
      "Epoch 181/200\n",
      "7/7 [==============================] - 0s 4ms/step - loss: 0.0185 - val_loss: 0.0182\n",
      "Epoch 182/200\n",
      "7/7 [==============================] - 0s 3ms/step - loss: 0.0185 - val_loss: 0.0182\n",
      "Epoch 183/200\n",
      "7/7 [==============================] - 0s 3ms/step - loss: 0.0185 - val_loss: 0.0182\n",
      "Epoch 184/200\n",
      "7/7 [==============================] - 0s 4ms/step - loss: 0.0185 - val_loss: 0.0182\n",
      "Epoch 185/200\n",
      "7/7 [==============================] - 0s 3ms/step - loss: 0.0185 - val_loss: 0.0182\n",
      "Epoch 186/200\n",
      "7/7 [==============================] - 0s 3ms/step - loss: 0.0185 - val_loss: 0.0182\n",
      "Epoch 187/200\n",
      "7/7 [==============================] - 0s 3ms/step - loss: 0.0185 - val_loss: 0.0182\n",
      "Epoch 188/200\n",
      "7/7 [==============================] - 0s 3ms/step - loss: 0.0185 - val_loss: 0.0182\n",
      "Epoch 189/200\n",
      "7/7 [==============================] - 0s 4ms/step - loss: 0.0185 - val_loss: 0.0182\n",
      "Epoch 190/200\n",
      "7/7 [==============================] - 0s 4ms/step - loss: 0.0184 - val_loss: 0.0182\n",
      "Epoch 191/200\n",
      "7/7 [==============================] - 0s 4ms/step - loss: 0.0184 - val_loss: 0.0182\n",
      "Epoch 192/200\n",
      "7/7 [==============================] - 0s 4ms/step - loss: 0.0184 - val_loss: 0.0182\n",
      "Epoch 193/200\n",
      "7/7 [==============================] - 0s 4ms/step - loss: 0.0185 - val_loss: 0.0182\n",
      "Epoch 194/200\n",
      "7/7 [==============================] - 0s 4ms/step - loss: 0.0184 - val_loss: 0.0182\n",
      "Epoch 195/200\n",
      "7/7 [==============================] - 0s 3ms/step - loss: 0.0184 - val_loss: 0.0182\n",
      "Epoch 196/200\n",
      "7/7 [==============================] - 0s 3ms/step - loss: 0.0184 - val_loss: 0.0182\n",
      "Epoch 197/200\n",
      "7/7 [==============================] - 0s 4ms/step - loss: 0.0184 - val_loss: 0.0182\n",
      "Epoch 198/200\n",
      "7/7 [==============================] - 0s 3ms/step - loss: 0.0184 - val_loss: 0.0182\n",
      "Epoch 199/200\n",
      "7/7 [==============================] - 0s 4ms/step - loss: 0.0184 - val_loss: 0.0182\n",
      "Epoch 200/200\n",
      "7/7 [==============================] - 0s 3ms/step - loss: 0.0184 - val_loss: 0.0182\n"
     ]
    },
    {
     "data": {
      "text/plain": [
       "<keras.callbacks.History at 0x7f83bc182a90>"
      ]
     },
     "execution_count": 30,
     "metadata": {},
     "output_type": "execute_result"
    }
   ],
   "source": [
    "# Autoencoder\n",
    "from tensorflow.keras.models import Model\n",
    "from tensorflow.keras import layers, losses\n",
    "\n",
    "latent_dim = 32\n",
    "\n",
    "\n",
    "class Autoencoder(Model):\n",
    "    def __init__(self, latent_dim, data_dim):\n",
    "        super(Autoencoder, self).__init__()\n",
    "        self.latent_dim = latent_dim  \n",
    "        self.encoder = tf.keras.Sequential([\n",
    "          layers.Flatten(),\n",
    "          layers.Dense(latent_dim*2, activation='relu'),\n",
    "          layers.Dense(latent_dim, activation='relu'),\n",
    "        ])\n",
    "        self.decoder = tf.keras.Sequential([\n",
    "          layers.Dense(latent_dim*2, activation='relu'),\n",
    "          layers.Dense(data_dim[0]*data_dim[1], activation='sigmoid'),\n",
    "          layers.Reshape(data_dim)\n",
    "        ])\n",
    "\n",
    "    def call(self, x):\n",
    "        encoded = self.encoder(x)\n",
    "        decoded = self.decoder(encoded)\n",
    "        return decoded\n",
    "\n",
    "autoencoder = Autoencoder(latent_dim, Y_train.shape[1:]) \n",
    "autoencoder.compile(optimizer='adam', loss=losses.MeanSquaredError())\n",
    "\n",
    "autoencoder.fit(Y_train, Y_train,\n",
    "                epochs=200,\n",
    "                shuffle=True,\n",
    "                validation_data=(Y_test, Y_test))"
   ]
  },
  {
   "cell_type": "code",
   "execution_count": 31,
   "id": "170f2f89",
   "metadata": {},
   "outputs": [],
   "source": [
    "encoded_Y_train = autoencoder.encoder(Y_train).numpy()\n",
    "encoded_Y_test = autoencoder.encoder(Y_test).numpy()"
   ]
  },
  {
   "cell_type": "code",
   "execution_count": 37,
   "id": "bc4a478e",
   "metadata": {},
   "outputs": [
    {
     "data": {
      "text/plain": [
       "(205, 32)"
      ]
     },
     "execution_count": 37,
     "metadata": {},
     "output_type": "execute_result"
    }
   ],
   "source": [
    "encoded_Y_train.shape"
   ]
  },
  {
   "cell_type": "code",
   "execution_count": 38,
   "id": "d2381fff",
   "metadata": {},
   "outputs": [],
   "source": [
    "def custom_loss(y_actual,y_pred):\n",
    "    custom_loss=kb.square(y_actual-y_pred)\n",
    "    return custom_loss"
   ]
  },
  {
   "cell_type": "code",
   "execution_count": 49,
   "id": "2f5d99dd",
   "metadata": {},
   "outputs": [],
   "source": [
    "def build_model_PCA(hp):\n",
    "    model = keras.Sequential()\n",
    "    model.add(keras.layers.BatchNormalization(input_shape=(5,)))\n",
    "    model.add(tf.keras.layers.Flatten())\n",
    "    model.add(keras.layers.Dense(\n",
    "    units=hp.Int(\"units\", min_value=20, max_value=100, step=20),\n",
    "    activation=hp.Choice(\"activation\", [\"relu\", \"tanh\",\"leaky_relu\"]))\n",
    "    )\n",
    "#     if hp.Boolean(\"dropout\"):\n",
    "#         model.add(keras.layers.Dropout(rate=0.25))\n",
    "        \n",
    "    model.add(keras.layers.Dense(\n",
    "    units=hp.Int(\"units2\", min_value=20, max_value=100, step=20),\n",
    "    activation=hp.Choice(\"activation\", [\"relu\", \"tanh\",\"leaky_relu\"]))\n",
    "    )\n",
    "    model.add(keras.layers.Dense(\n",
    "    units=hp.Int(\"units3\", min_value=20, max_value=100, step=20),\n",
    "    activation=hp.Choice(\"activation\", \"leaky_relu\"))\n",
    "    )\n",
    "    model.add(keras.layers.Dense(latent_dim, activation='leaky_relu'))\n",
    "    hp_learning_rate=hp.Choice(\"learning_rate\",values=[1e-2,1e-3,1e-4])\n",
    "    model.compile(optimizer=tf.optimizers.Adam(learning_rate=hp_learning_rate),loss=custom_loss,\n",
    "             metrics=[ tf.keras.metrics.RootMeanSquaredError()])\n",
    "    return model"
   ]
  },
  {
   "cell_type": "code",
   "execution_count": 40,
   "id": "fcbeecd4",
   "metadata": {},
   "outputs": [],
   "source": [
    "tuner = kt.Hyperband(\n",
    "    build_model_PCA,\n",
    "    objective='val_loss',\n",
    "    max_epochs=10,\n",
    "    factor=3,\n",
    "    overwrite=True,\n",
    "    directory='trials',)"
   ]
  },
  {
   "cell_type": "code",
   "execution_count": 41,
   "id": "93a1c0eb",
   "metadata": {},
   "outputs": [
    {
     "name": "stdout",
     "output_type": "stream",
     "text": [
      "Trial 30 Complete [00h 00m 00s]\n",
      "val_loss: 1.3461440801620483\n",
      "\n",
      "Best val_loss So Far: 0.8109667897224426\n",
      "Total elapsed time: 00h 00m 16s\n",
      "INFO:tensorflow:Oracle triggered exit\n"
     ]
    }
   ],
   "source": [
    "tuner.search(X_train, encoded_Y_train, epochs=50, validation_data=(X_test, encoded_Y_test))"
   ]
  },
  {
   "cell_type": "code",
   "execution_count": 42,
   "id": "a1b929e4",
   "metadata": {},
   "outputs": [
    {
     "name": "stdout",
     "output_type": "stream",
     "text": [
      "Model: \"sequential\"\n",
      "_________________________________________________________________\n",
      "Layer (type)                 Output Shape              Param #   \n",
      "=================================================================\n",
      "batch_normalization (BatchNo (None, 5)                 20        \n",
      "_________________________________________________________________\n",
      "flatten (Flatten)            (None, 5)                 0         \n",
      "_________________________________________________________________\n",
      "dense (Dense)                (None, 20)                120       \n",
      "_________________________________________________________________\n",
      "dense_1 (Dense)              (None, 40)                840       \n",
      "_________________________________________________________________\n",
      "dense_2 (Dense)              (None, 80)                3280      \n",
      "_________________________________________________________________\n",
      "dense_3 (Dense)              (None, 32)                2592      \n",
      "=================================================================\n",
      "Total params: 6,852\n",
      "Trainable params: 6,842\n",
      "Non-trainable params: 10\n",
      "_________________________________________________________________\n"
     ]
    }
   ],
   "source": [
    "best_model = tuner.get_best_models()[0]\n",
    "best_model.summary()"
   ]
  },
  {
   "cell_type": "code",
   "execution_count": 43,
   "id": "7d05764c",
   "metadata": {},
   "outputs": [],
   "source": [
    "Y_Pred=best_model.predict(X_test)"
   ]
  },
  {
   "cell_type": "code",
   "execution_count": 44,
   "id": "ca5603a8",
   "metadata": {},
   "outputs": [],
   "source": [
    "Y_orig_test=autoencoder.decoder(Y_Pred)\n",
    "\n"
   ]
  },
  {
   "cell_type": "code",
   "execution_count": 45,
   "id": "a7152b58",
   "metadata": {},
   "outputs": [],
   "source": [
    "mse=np.mean(np.square(Y_orig_test-Y_test))"
   ]
  },
  {
   "cell_type": "code",
   "execution_count": 46,
   "id": "1896578e",
   "metadata": {},
   "outputs": [],
   "source": [
    "rmse=np.sqrt(mse)"
   ]
  },
  {
   "cell_type": "code",
   "execution_count": 47,
   "id": "f85a1602",
   "metadata": {},
   "outputs": [
    {
     "name": "stdout",
     "output_type": "stream",
     "text": [
      "mse is: 0.020267146 rmse: 0.14236273\n"
     ]
    }
   ],
   "source": [
    "print(\"mse is:\",mse,\"rmse:\",rmse)"
   ]
  },
  {
   "cell_type": "code",
   "execution_count": 48,
   "id": "d197377e",
   "metadata": {},
   "outputs": [
    {
     "data": {
      "image/png": "[encoded data removed]",
      "text/plain": [
       "<IPython.core.display.Image object>"
      ]
     },
     "execution_count": 48,
     "metadata": {},
     "output_type": "execute_result"
    }
   ],
   "source": [
    "plot_model(best_model, to_file='large_model_plot.png', show_shapes=True, show_layer_names=False)"
   ]
  },
  {
   "cell_type": "code",
   "execution_count": null,
   "id": "763d51a5",
   "metadata": {},
   "outputs": [],
   "source": []
  },
  {
   "cell_type": "code",
   "execution_count": null,
   "id": "97cdb301",
   "metadata": {},
   "outputs": [],
   "source": []
  }
 ],
 "metadata": {
  "kernelspec": {
   "display_name": "Python [conda env:proj-env] *",
   "language": "python",
   "name": "conda-env-proj-env-py"
  },
  "language_info": {
   "codemirror_mode": {
    "name": "ipython",
    "version": 3
   },
   "file_extension": ".py",
   "mimetype": "text/x-python",
   "name": "python",
   "nbconvert_exporter": "python",
   "pygments_lexer": "ipython3",
   "version": "3.6.13"
  }
 },
 "nbformat": 4,
 "nbformat_minor": 5
}
